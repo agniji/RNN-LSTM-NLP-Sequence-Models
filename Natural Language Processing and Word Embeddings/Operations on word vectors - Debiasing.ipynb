{
  "nbformat": 4,
  "nbformat_minor": 0,
  "metadata": {
    "coursera": {
      "course_slug": "nlp-sequence-models",
      "graded_item_id": "8hb5s",
      "launcher_item_id": "5NrJ6"
    },
    "kernelspec": {
      "display_name": "Python 3",
      "language": "python",
      "name": "python3"
    },
    "language_info": {
      "codemirror_mode": {
        "name": "ipython",
        "version": 3
      },
      "file_extension": ".py",
      "mimetype": "text/x-python",
      "name": "python",
      "nbconvert_exporter": "python",
      "pygments_lexer": "ipython3",
      "version": "3.6.0"
    },
    "colab": {
      "name": "Operations on word vectors - Debiasing.ipynb",
      "provenance": [],
      "collapsed_sections": [],
      "include_colab_link": true
    }
  },
  "cells": [
    {
      "cell_type": "markdown",
      "metadata": {
        "id": "view-in-github",
        "colab_type": "text"
      },
      "source": [
        "<a href=\"https://colab.research.google.com/github/georgezoto/RNN-LSTM-NLP-Sequence-Models/blob/master/Natural%20Language%20Processing%20%2B%20Word%20Embeddings/Operations%20on%20word%20vectors%20-%20Debiasing.ipynb\" target=\"_parent\"><img src=\"https://colab.research.google.com/assets/colab-badge.svg\" alt=\"Open In Colab\"/></a>"
      ]
    },
    {
      "cell_type": "code",
      "metadata": {
        "id": "coSs6TYeoCb1",
        "colab_type": "code",
        "colab": {}
      },
      "source": [
        "from google.colab import drive\n",
        "drive.mount('/content/gdrive')"
      ],
      "execution_count": 0,
      "outputs": []
    },
    {
      "cell_type": "code",
      "metadata": {
        "id": "18qobOb8oPij",
        "colab_type": "code",
        "colab": {}
      },
      "source": [
        "google_drive_path = '/content/gdrive/My Drive/+Colab Notebooks/RNN-LSTM-NLP-Sequence-Models/Natural Language Processing + Word Embeddings/Operations on word vectors - Debiasing'"
      ],
      "execution_count": 0,
      "outputs": []
    },
    {
      "cell_type": "markdown",
      "metadata": {
        "id": "mjbh6b5ooCb4",
        "colab_type": "text"
      },
      "source": [
        "# Operations on word vectors\n",
        "\n",
        "Welcome to your first assignment of this week! \n",
        "\n",
        "Because word embeddings are very computionally expensive to train, most ML practitioners will load a pre-trained set of embeddings. \n",
        "\n",
        "**After this assignment you will be able to:**\n",
        "\n",
        "- Load pre-trained word vectors, and measure similarity using cosine similarity\n",
        "- Use word embeddings to solve word analogy problems such as Man is to Woman as King is to ______. \n",
        "- Modify word embeddings to reduce their gender bias \n",
        "\n",
        "Let's get started! Run the following cell to load the packages you will need."
      ]
    },
    {
      "cell_type": "code",
      "metadata": {
        "id": "NdBPc_r8oCb4",
        "colab_type": "code",
        "colab": {
          "base_uri": "https://localhost:8080/",
          "height": 34
        },
        "outputId": "feab9e51-98f7-40e9-cee3-48d93de5368e"
      },
      "source": [
        "import sys\n",
        "sys.path.append(google_drive_path)\n",
        "\n",
        "import numpy as np\n",
        "from w2v_utils import *"
      ],
      "execution_count": 3,
      "outputs": [
        {
          "output_type": "stream",
          "text": [
            "Using TensorFlow backend.\n"
          ],
          "name": "stderr"
        }
      ]
    },
    {
      "cell_type": "markdown",
      "metadata": {
        "id": "b6QS-07toCb6",
        "colab_type": "text"
      },
      "source": [
        "Next, lets load the word vectors. For this assignment, we will use 50-dimensional GloVe vectors to represent words. Run the following cell to load the `word_to_vec_map`. "
      ]
    },
    {
      "cell_type": "code",
      "metadata": {
        "id": "usmWv814oCb7",
        "colab_type": "code",
        "colab": {}
      },
      "source": [
        "words, word_to_vec_map = read_glove_vecs(google_drive_path + '/data/glove.6B.50d.txt')"
      ],
      "execution_count": 0,
      "outputs": []
    },
    {
      "cell_type": "code",
      "metadata": {
        "id": "5AsSqV3uoCb9",
        "colab_type": "code",
        "colab": {
          "base_uri": "https://localhost:8080/",
          "height": 51
        },
        "outputId": "17a94348-3e3d-452f-a8c7-88497be73cff"
      },
      "source": [
        "import random\n",
        "print(type(words), len(words))\n",
        "print(type(word_to_vec_map), len(word_to_vec_map))"
      ],
      "execution_count": 5,
      "outputs": [
        {
          "output_type": "stream",
          "text": [
            "<class 'set'> 400000\n",
            "<class 'dict'> 400000\n"
          ],
          "name": "stdout"
        }
      ]
    },
    {
      "cell_type": "code",
      "metadata": {
        "scrolled": true,
        "id": "Oj-pXCN6oCb-",
        "colab_type": "code",
        "colab": {
          "base_uri": "https://localhost:8080/",
          "height": 1000
        },
        "outputId": "d5d01dff-23f5-428e-ba10-5d20be0f2072"
      },
      "source": [
        "print(random.sample(words, 10))\n",
        "for item in list(word_to_vec_map.items())[100:110]:\n",
        "    print(item)"
      ],
      "execution_count": 6,
      "outputs": [
        {
          "output_type": "stream",
          "text": [
            "['jakab', 'chalong', 'kadal', 'riegert', '17.57', 'greco-roman', '37-member', 'ordiales', 'parepare', 'sandhu']\n",
            "('so', array([ 6.0308e-01, -3.2024e-01,  8.8857e-02, -5.5176e-01,  5.3182e-01,\n",
            "        4.7069e-02, -3.6246e-01,  5.7018e-03, -3.7665e-01,  2.2534e-01,\n",
            "       -1.3534e-01,  3.5988e-01, -4.2518e-01,  7.1324e-02,  7.7065e-01,\n",
            "        5.6712e-01,  4.1226e-01,  1.2451e-01,  1.4230e-01, -9.6535e-01,\n",
            "       -3.9053e-01,  3.4199e-01,  5.6969e-01,  3.1635e-02,  6.9465e-01,\n",
            "       -1.9216e+00, -6.7118e-01,  5.7971e-01,  8.6088e-01, -5.9105e-01,\n",
            "        3.7787e+00,  3.0431e-01, -4.3103e-02, -4.2398e-01, -6.3915e-02,\n",
            "       -6.6822e-02,  6.1983e-02,  5.6332e-01, -2.2335e-01, -4.7386e-01,\n",
            "       -4.7021e-01,  9.1714e-02,  1.4778e-01,  6.3805e-01, -1.4356e-01,\n",
            "       -2.2928e-03, -3.1500e-01, -2.5187e-01, -2.6879e-01,  3.6657e-01]))\n",
            "('them', array([ 0.64642 , -0.556   ,  0.47038 , -0.82074 ,  0.79512 ,  0.28771 ,\n",
            "       -0.56426 ,  0.1463  , -0.52421 ,  0.021607, -0.11266 ,  0.31986 ,\n",
            "       -0.057542, -0.23375 ,  0.63703 ,  0.3382  ,  0.4649  , -0.42398 ,\n",
            "        0.091868, -0.8804  ,  0.22077 ,  0.7127  ,  0.98196 , -0.033819,\n",
            "        0.31554 , -1.8001  , -0.26003 , -0.37762 ,  0.85634 , -1.3393  ,\n",
            "        3.6408  ,  0.87273 , -0.7923  , -0.51268 ,  0.14415 ,  0.55439 ,\n",
            "        0.1006  ,  0.13233 , -0.071904, -0.16399 , -0.089989, -0.031932,\n",
            "        0.6139  ,  0.40419 ,  0.22686 , -0.18974 , -0.55403 , -0.35831 ,\n",
            "       -0.10995 , -0.447   ]))\n",
            "('what', array([ 0.45323 ,  0.059811, -0.10577 , -0.333   ,  0.72359 , -0.08717 ,\n",
            "       -0.61053 , -0.037695, -0.30945 ,  0.21805 , -0.43605 ,  0.47318 ,\n",
            "       -0.76866 , -0.2713  ,  1.1042  ,  0.59141 ,  0.56962 , -0.18678 ,\n",
            "        0.14867 , -0.67292 , -0.34672 ,  0.52284 ,  0.22959 , -0.072014,\n",
            "        0.93967 , -2.3985  , -1.3238  ,  0.28698 ,  0.75509 , -0.76522 ,\n",
            "        3.3425  ,  0.17233 , -0.51803 , -0.8297  , -0.29333 , -0.50076 ,\n",
            "       -0.15228 ,  0.098973,  0.18146 , -0.1742  , -0.40666 ,  0.20348 ,\n",
            "       -0.011788,  0.48252 ,  0.024598,  0.34064 , -0.084724,  0.5324  ,\n",
            "       -0.25103 ,  0.62546 ]))\n",
            "('him', array([ 0.11964  , -0.045405 ,  0.0511   , -0.82873  ,  0.97665  ,\n",
            "        0.11128  , -0.54588  ,  1.1561   , -0.68081  ,  0.060207 ,\n",
            "       -0.28765  ,  0.88061  , -0.91795  , -0.18328  ,  0.84184  ,\n",
            "       -0.11856  , -0.14957  , -0.16155  , -0.37406  , -0.45342  ,\n",
            "       -0.18517  ,  1.0392   ,  0.55667  , -0.14309  ,  0.71394  ,\n",
            "       -2.9407   , -0.051859 , -0.13871  ,  0.32151  , -0.97971  ,\n",
            "        2.9054   ,  0.53426  , -0.81418  , -0.48852  ,  0.011175 ,\n",
            "        0.42211  ,  0.39004  ,  0.45243  , -0.0070671, -0.64889  ,\n",
            "        0.091121 ,  0.4689   , -0.58192  ,  0.45654  ,  0.02734  ,\n",
            "       -0.44539  , -0.42373  , -0.62792  ,  0.024592 , -0.14341  ]))\n",
            "('united', array([-3.9874e-01,  7.1993e-02, -6.9773e-02,  1.4706e-01,  1.1850e-01,\n",
            "        1.4770e-01, -8.4431e-01,  1.4760e-01,  6.4804e-01, -5.5926e-01,\n",
            "        5.0164e-01, -7.3356e-02, -4.1291e-01, -5.3611e-01,  1.5390e-03,\n",
            "        1.3058e-01,  4.1344e-01, -4.6995e-01, -3.9555e-01,  3.1692e-01,\n",
            "        1.4235e-01, -2.7840e-02,  1.5000e-01,  4.6728e-02, -4.8460e-01,\n",
            "       -2.1998e+00,  9.5655e-01, -5.2361e-01, -2.4962e-01,  7.1318e-02,\n",
            "        3.2888e+00,  2.0326e-01, -3.8228e-01, -6.6121e-01, -1.3710e-01,\n",
            "       -7.6912e-01, -9.9412e-02,  2.1231e-01, -9.9046e-01, -4.8150e-01,\n",
            "        5.9310e-02, -2.8903e-01,  9.2223e-01, -9.0738e-01, -5.3878e-02,\n",
            "        1.0557e+00, -9.8310e-01,  1.6757e-01, -8.1659e-01, -1.2107e-01]))\n",
            "('during', array([ 0.29784  , -0.018422 , -0.71891  , -0.4651   , -0.45661  ,\n",
            "       -0.0042153, -0.74598  ,  0.34662  , -0.51781  , -0.5877   ,\n",
            "        0.18398  , -0.36903  , -0.52225  , -0.14082  ,  0.83446  ,\n",
            "       -0.26962  , -0.89364  , -0.11813  , -1.3076   ,  0.475    ,\n",
            "        0.52815  , -0.021974 ,  0.61869  , -0.65362  , -0.14298  ,\n",
            "       -1.6466   , -0.05305  , -0.17046  ,  0.17048  ,  0.75756  ,\n",
            "        3.5832   ,  0.13775  , -0.37811  , -0.48736  ,  0.0069906,\n",
            "        0.59913  ,  0.31404  ,  0.30734  , -0.42397  ,  0.35383  ,\n",
            "       -0.97151  ,  0.16082  , -0.63666  , -0.20449  , -0.070846 ,\n",
            "       -0.32219  , -0.049254 , -0.41865  , -0.6899   , -0.54908  ]))\n",
            "('before', array([ 0.30806  , -0.29665  , -0.25706  , -0.5871   ,  0.095135 ,\n",
            "       -0.15211  , -0.91478  ,  0.75727  , -0.30423  , -0.29058  ,\n",
            "       -0.13034  , -0.10095  , -0.89755  , -0.0047833,  0.8006   ,\n",
            "        0.16963  , -0.50634  , -0.65842  , -1.1339   , -0.11095  ,\n",
            "        0.65418  ,  0.35378  ,  0.6365   , -0.30083  ,  0.026192 ,\n",
            "       -1.9383   ,  0.69073  ,  0.17019  ,  0.19922  , -0.39307  ,\n",
            "        3.4795   ,  0.32546  , -0.76314  , -0.15125  ,  0.18169  ,\n",
            "       -0.0076951,  0.55525  ,  0.56142  ,  0.2797   , -0.12891  ,\n",
            "       -0.39037  ,  0.0044389, -0.32367  ,  0.0098883, -0.37866  ,\n",
            "        0.30018  ,  0.20875  , -0.53844  , -0.11058  , -0.54785  ]))\n",
            "('may', array([ 0.7048  ,  0.22261 ,  0.086997, -0.21241 , -0.089356,  0.43742 ,\n",
            "       -0.2817  ,  0.13378 , -0.50859 , -0.18242 ,  0.49506 ,  0.42461 ,\n",
            "        0.046785, -0.50121 ,  0.84621 ,  1.0146  , -0.43954 , -0.65499 ,\n",
            "       -0.64706 , -0.23365 ,  0.27612 , -0.63294 ,  0.91064 ,  0.033327,\n",
            "       -0.058451, -1.6059  , -0.34741 , -0.36285 ,  0.46723 ,  0.244   ,\n",
            "        3.4249  ,  0.056168, -0.71991 , -0.88332 ,  0.33741 , -0.53236 ,\n",
            "        0.33991 ,  0.023837,  0.2384  , -0.38713 , -0.49621 , -0.14846 ,\n",
            "        0.046201,  0.10325 ,  0.17374 ,  0.13763 ,  0.084989, -0.39688 ,\n",
            "        0.17632 ,  0.31862 ]))\n",
            "('since', array([ 0.15423 , -0.12552 ,  0.022279, -0.067561, -0.35975 ,  0.14409 ,\n",
            "       -1.0902  , -0.028693, -0.43147 , -0.13781 ,  0.37841 , -0.63031 ,\n",
            "       -0.9552  , -0.20059 ,  1.2613  ,  0.35506 , -0.48844 , -0.1105  ,\n",
            "       -0.99467 ,  0.56709 ,  0.014872, -0.10873 ,  0.41999 , -0.25197 ,\n",
            "       -0.42385 , -1.6795  ,  0.021355, -0.11534 ,  0.010638,  0.91305 ,\n",
            "        3.6854  , -0.11751 , -0.093662, -0.43435 ,  0.013842, -0.18345 ,\n",
            "        0.040666,  0.39788 , -0.33622 , -0.20412 , -1.1319  , -0.12322 ,\n",
            "       -0.24299 , -0.11286 , -0.55786 ,  0.11893 , -0.43917 , -0.28507 ,\n",
            "       -0.6303  , -0.58676 ]))\n",
            "('many', array([ 0.6979  ,  0.08234 ,  0.041526, -0.50704 , -0.15801 ,  0.36048 ,\n",
            "       -1.0745  , -0.23927 , -0.74704 ,  0.16007 , -0.1842  , -0.079723,\n",
            "        0.32044 , -0.20326 ,  0.59591 , -0.067483,  0.34272 , -0.054553,\n",
            "        0.061765, -1.0285  , -0.019078,  0.065302,  0.42329 ,  0.45624 ,\n",
            "        0.20553 , -1.2436  , -1.1895  , -0.66457 , -0.049265, -0.26779 ,\n",
            "        4.0103  ,  0.4457  ,  0.40423 , -1.0601  ,  0.2829  ,  0.36724 ,\n",
            "       -0.40097 , -0.043859, -0.50993 ,  0.39467 , -0.68713 ,  0.19318 ,\n",
            "        0.46337 ,  0.91707 ,  0.49551 ,  0.1565  , -0.86741 ,  0.037265,\n",
            "       -0.60443 , -0.64699 ]))\n"
          ],
          "name": "stdout"
        }
      ]
    },
    {
      "cell_type": "markdown",
      "metadata": {
        "id": "igsRLIbNoCcA",
        "colab_type": "text"
      },
      "source": [
        "You've loaded:\n",
        "- `words`: set of words in the vocabulary.\n",
        "- `word_to_vec_map`: dictionary mapping words to their GloVe vector representation.\n",
        "\n",
        "You've seen that one-hot vectors do not do a good job capturing what words are similar. GloVe vectors provide much more useful information about the meaning of individual words. Lets now see how you can use GloVe vectors to decide how similar two words are. \n",
        "\n"
      ]
    },
    {
      "cell_type": "markdown",
      "metadata": {
        "id": "ppYbdPw3oCcA",
        "colab_type": "text"
      },
      "source": [
        "# 1 - Cosine similarity\n",
        "\n",
        "To measure how similar two words are, we need a way to measure the degree of similarity between two embedding vectors for the two words. Given two vectors $u$ and $v$, cosine similarity is defined as follows: \n",
        "\n",
        "$$\\text{CosineSimilarity(u, v)} = \\frac {u . v} {||u||_2 ||v||_2} = cos(\\theta) \\tag{1}$$\n",
        "\n",
        "where $u.v$ is the dot product (or inner product) of two vectors, $||u||_2$ is the norm (or length) of the vector $u$, and $\\theta$ is the angle between $u$ and $v$. This similarity depends on the angle between $u$ and $v$. If $u$ and $v$ are very similar, their cosine similarity will be close to 1; if they are dissimilar, the cosine similarity will take a smaller value. \n",
        "\n",
        "<img src=\"https://docs.google.com/uc?export=download&id=1rVgQwDcUfKvyRqy1G6KBAydufF8wpwaF\" style=\"width:650px;height:400px;\">\n",
        "<caption><center> **Figure 1**: The cosine of the angle between two vectors is a measure of how similar they are</center></caption>\n",
        "\n",
        "**Exercise**: Implement the function `cosine_similarity()` to evaluate similarity between word vectors.\n",
        "\n",
        "**Reminder**: The norm of $u$ is defined as $ ||u||_2 = \\sqrt{\\sum_{i=1}^{n} u_i^2}$"
      ]
    },
    {
      "cell_type": "code",
      "metadata": {
        "id": "C2NJplbpoCcB",
        "colab_type": "code",
        "colab": {}
      },
      "source": [
        "# GRADED FUNCTION: cosine_similarity\n",
        "\n",
        "def cosine_similarity(u, v):\n",
        "    \"\"\"\n",
        "    Cosine similarity reflects the degree of similariy between u and v\n",
        "        \n",
        "    Arguments:\n",
        "        u -- a word vector of shape (n,)          \n",
        "        v -- a word vector of shape (n,)\n",
        "\n",
        "    Returns:\n",
        "        cosine_similarity -- the cosine similarity between u and v defined by the formula above.\n",
        "    \"\"\"\n",
        "    \n",
        "    distance = 0.0\n",
        "    \n",
        "    ### START CODE HERE ###\n",
        "    # Compute the dot product between u and v (≈1 line)\n",
        "    dot = np.dot(u, v)\n",
        "    # Compute the L2 norm of u (≈1 line)\n",
        "    norm_u = np.sqrt(np.sum(np.square(u)))\n",
        "    \n",
        "    # Compute the L2 norm of v (≈1 line)\n",
        "    norm_v = np.sqrt(np.sum(np.square(v)))\n",
        "    # Compute the cosine similarity defined by formula (1) (≈1 line)\n",
        "    cosine_similarity = dot / (norm_u * norm_v)\n",
        "    ### END CODE HERE ###\n",
        "    \n",
        "    return cosine_similarity"
      ],
      "execution_count": 0,
      "outputs": []
    },
    {
      "cell_type": "code",
      "metadata": {
        "id": "uDkHm3-YoCcC",
        "colab_type": "code",
        "colab": {
          "base_uri": "https://localhost:8080/",
          "height": 68
        },
        "outputId": "59e036cb-7dd5-4cbd-c8cb-00a2aa961c90"
      },
      "source": [
        "father = word_to_vec_map[\"father\"]\n",
        "mother = word_to_vec_map[\"mother\"]\n",
        "ball = word_to_vec_map[\"ball\"]\n",
        "crocodile = word_to_vec_map[\"crocodile\"]\n",
        "france = word_to_vec_map[\"france\"]\n",
        "italy = word_to_vec_map[\"italy\"]\n",
        "paris = word_to_vec_map[\"paris\"]\n",
        "rome = word_to_vec_map[\"rome\"]\n",
        "\n",
        "print(\"cosine_similarity(father, mother) = \", cosine_similarity(father, mother))\n",
        "print(\"cosine_similarity(ball, crocodile) = \",cosine_similarity(ball, crocodile))\n",
        "print(\"cosine_similarity(france - paris, rome - italy) = \",cosine_similarity(france - paris, rome - italy))"
      ],
      "execution_count": 8,
      "outputs": [
        {
          "output_type": "stream",
          "text": [
            "cosine_similarity(father, mother) =  0.8909038442893615\n",
            "cosine_similarity(ball, crocodile) =  0.2743924626137942\n",
            "cosine_similarity(france - paris, rome - italy) =  -0.6751479308174201\n"
          ],
          "name": "stdout"
        }
      ]
    },
    {
      "cell_type": "markdown",
      "metadata": {
        "id": "zhEX_WhnoCcE",
        "colab_type": "text"
      },
      "source": [
        "**Expected Output**:\n",
        "\n",
        "<table>\n",
        "    <tr>\n",
        "        <td>\n",
        "            **cosine_similarity(father, mother)** =\n",
        "        </td>\n",
        "        <td>\n",
        "         0.890903844289\n",
        "        </td>\n",
        "    </tr>\n",
        "        <tr>\n",
        "        <td>\n",
        "            **cosine_similarity(ball, crocodile)** =\n",
        "        </td>\n",
        "        <td>\n",
        "         0.274392462614\n",
        "        </td>\n",
        "    </tr>\n",
        "        <tr>\n",
        "        <td>\n",
        "            **cosine_similarity(france - paris, rome - italy)** =\n",
        "        </td>\n",
        "        <td>\n",
        "         -0.675147930817\n",
        "        </td>\n",
        "    </tr>\n",
        "</table>"
      ]
    },
    {
      "cell_type": "markdown",
      "metadata": {
        "id": "ElCyygQWoCcE",
        "colab_type": "text"
      },
      "source": [
        "After you get the correct expected output, please feel free to modify the inputs and measure the cosine similarity between other pairs of words! Playing around the cosine similarity of other inputs will give you a better sense of how word vectors behave. "
      ]
    },
    {
      "cell_type": "code",
      "metadata": {
        "id": "IxKKLMmtoCcF",
        "colab_type": "code",
        "colab": {
          "base_uri": "https://localhost:8080/",
          "height": 102
        },
        "outputId": "b2f6ec9b-2094-436b-810f-a7e03093c035"
      },
      "source": [
        "word_list = random.sample(words, 10)\n",
        "#print(word_list)\n",
        "\n",
        "length_list = len(word_list)\n",
        "for word in range(int(length_list/2)):\n",
        "    print(word_list[word], word_list[length_list - 1 - word], cosine_similarity(word_to_vec_map[word_list[word]], word_to_vec_map[word_list[length_list - 1 - word]]))"
      ],
      "execution_count": 9,
      "outputs": [
        {
          "output_type": "stream",
          "text": [
            "dealmaker magyarization 0.0706705508474439\n",
            "meager eloxatin 0.10330223404268632\n",
            "kopff milovan 0.1109110203507779\n",
            "www.nytrng.com titanic -0.10680255116112058\n",
            "võ ikea -0.14982987599923475\n"
          ],
          "name": "stdout"
        }
      ]
    },
    {
      "cell_type": "code",
      "metadata": {
        "id": "koKGAUPGoCcG",
        "colab_type": "code",
        "colab": {
          "base_uri": "https://localhost:8080/",
          "height": 408
        },
        "outputId": "5b27bea4-885b-4370-97ab-f3c1f4ecb80b"
      },
      "source": [
        "a, b, c = [word_to_vec_map[item] for item in [\"a\", \"b\", \"c\"]]\n",
        "print(a,b,c)"
      ],
      "execution_count": 10,
      "outputs": [
        {
          "output_type": "stream",
          "text": [
            "[ 0.21705   0.46515  -0.46757   0.10082   1.0135    0.74845  -0.53104\n",
            " -0.26256   0.16812   0.13182  -0.24909  -0.44185  -0.21739   0.51004\n",
            "  0.13448  -0.43141  -0.03123   0.20674  -0.78138  -0.20148  -0.097401\n",
            "  0.16088  -0.61836  -0.18504  -0.12461  -2.2526   -0.22321   0.5043\n",
            "  0.32257   0.15313   3.9636   -0.71365  -0.67012   0.28388   0.21738\n",
            "  0.14433   0.25926   0.23434   0.4274   -0.44451   0.13813   0.36973\n",
            " -0.64289   0.024142 -0.039315 -0.26037   0.12017  -0.043782  0.41013\n",
            "  0.1796  ] [-0.30116   0.33204   0.15823   0.90937   0.81527   0.57844   0.71019\n",
            " -1.0302    0.27123   0.79128   0.51991   0.98376  -0.93796  -0.24859\n",
            " -0.51284   0.19092   0.11299  -0.55316  -1.126     0.26185  -0.42071\n",
            "  0.3091    1.4791    0.92466  -0.54612  -0.18773   0.49344  -0.61355\n",
            " -0.43817   0.12065   2.787    -0.21129   0.5784    0.7635    1.2451\n",
            " -0.67338   1.1734   -0.011767 -0.11209   0.1442    0.61184   0.23579\n",
            "  0.056863 -0.13761  -0.21982   1.0443    0.019525 -0.77967   0.98732\n",
            "  0.62457 ] [-0.48882    0.48228    0.45726    0.89723    0.84066    0.25832\n",
            "  0.587     -1.1499     0.15777    0.54993    0.76083    0.89797\n",
            " -0.41365   -0.37741   -0.43394    0.48954   -0.12724   -0.62417\n",
            " -1.3724    -0.14327    0.0040979  0.35776    1.3698     0.2507\n",
            " -0.41694    0.23011    1.0733    -0.68359   -0.27213    0.43046\n",
            "  2.7213    -0.35617    0.58463    0.94392    1.2077    -1.0876\n",
            "  1.0879    -0.12732    0.52957    0.48666    0.91474    0.4191\n",
            "  0.23457    0.30505   -0.63742    1.001      0.20878   -0.51351\n",
            "  0.38353    0.84917  ]\n"
          ],
          "name": "stdout"
        }
      ]
    },
    {
      "cell_type": "code",
      "metadata": {
        "id": "ujE0ZvKPoCcI",
        "colab_type": "code",
        "colab": {
          "base_uri": "https://localhost:8080/",
          "height": 68
        },
        "outputId": "054ecafe-4aae-4da2-ff49-e59c6fa535c4"
      },
      "source": [
        "father = word_to_vec_map[\"love\"]\n",
        "mother = word_to_vec_map[\"affection\"]\n",
        "ball = word_to_vec_map[\"day\"]\n",
        "crocodile = word_to_vec_map[\"night\"]\n",
        "france = word_to_vec_map[\"albania\"]\n",
        "italy = word_to_vec_map[\"usa\"]\n",
        "paris = word_to_vec_map[\"tirana\"]\n",
        "rome = word_to_vec_map[\"dc\"]\n",
        "\n",
        "print(\"cosine_similarity(father, mother) = \", cosine_similarity(father, mother))\n",
        "print(\"cosine_similarity(ball, crocodile) = \",cosine_similarity(ball, crocodile))\n",
        "print(\"cosine_similarity(france - paris, rome - italy) = \",cosine_similarity(france - paris, rome - italy))"
      ],
      "execution_count": 11,
      "outputs": [
        {
          "output_type": "stream",
          "text": [
            "cosine_similarity(father, mother) =  0.6293908178787248\n",
            "cosine_similarity(ball, crocodile) =  0.8746730623725082\n",
            "cosine_similarity(france - paris, rome - italy) =  -0.03339833096246661\n"
          ],
          "name": "stdout"
        }
      ]
    },
    {
      "cell_type": "markdown",
      "metadata": {
        "id": "QqHtpucgoCcJ",
        "colab_type": "text"
      },
      "source": [
        "## 2 - Word analogy task\n",
        "\n",
        "In the word analogy task, we complete the sentence <font color='brown'>\"*a* is to *b* as *c* is to **____**\"</font>. An example is <font color='brown'> '*man* is to *woman* as *king* is to *queen*' </font>. In detail, we are trying to find a word *d*, such that the associated word vectors $e_a, e_b, e_c, e_d$ are related in the following manner: $e_b - e_a \\approx e_d - e_c$. We will measure the similarity between $e_b - e_a$ and $e_d - e_c$ using cosine similarity. \n",
        "\n",
        "**Exercise**: Complete the code below to be able to perform word analogies!"
      ]
    },
    {
      "cell_type": "code",
      "metadata": {
        "id": "0D6shVlRoCcK",
        "colab_type": "code",
        "colab": {}
      },
      "source": [
        "# GRADED FUNCTION: complete_analogy\n",
        "\n",
        "def complete_analogy(word_a, word_b, word_c, word_to_vec_map):\n",
        "    \"\"\"\n",
        "    Performs the word analogy task as explained above: a is to b as c is to ____. \n",
        "    \n",
        "    Arguments:\n",
        "    word_a -- a word, string\n",
        "    word_b -- a word, string\n",
        "    word_c -- a word, string\n",
        "    word_to_vec_map -- dictionary that maps words to their corresponding vectors. \n",
        "    \n",
        "    Returns:\n",
        "    best_word --  the word such that v_b - v_a is close to v_best_word - v_c, as measured by cosine similarity\n",
        "    \"\"\"\n",
        "    \n",
        "    # convert words to lower case\n",
        "    word_a, word_b, word_c = word_a.lower(), word_b.lower(), word_c.lower()\n",
        "    \n",
        "    ### START CODE HERE ###\n",
        "    # Get the word embeddings e_a, e_b and e_c (≈1-3 lines)\n",
        "    e_a, e_b, e_c = [word_to_vec_map[item] for item in [word_a, word_b, word_c]]\n",
        "    ### END CODE HERE ###\n",
        "    \n",
        "    words = word_to_vec_map.keys()\n",
        "    max_cosine_sim = -100              # Initialize max_cosine_sim to a large negative number\n",
        "    best_word = None                   # Initialize best_word with None, it will help keep track of the word to output\n",
        "\n",
        "    # loop over the whole word vector set\n",
        "    for w in words:        \n",
        "        # to avoid best_word being one of the input words, pass on them.\n",
        "        if w in [word_a, word_b, word_c] :\n",
        "            continue\n",
        "        \n",
        "        ### START CODE HERE ###\n",
        "        # Compute cosine similarity between the vector (e_b - e_a) and the vector ((w's vector representation) - e_c)  (≈1 line)\n",
        "        cosine_sim = cosine_similarity(e_b - e_a, word_to_vec_map[w] - e_c)\n",
        "        \n",
        "        # If the cosine_sim is more than the max_cosine_sim seen so far,\n",
        "            # then: set the new max_cosine_sim to the current cosine_sim and the best_word to the current word (≈3 lines)\n",
        "        if cosine_sim > max_cosine_sim:\n",
        "            max_cosine_sim = cosine_sim\n",
        "            best_word = w\n",
        "        ### END CODE HERE ###\n",
        "        \n",
        "    return best_word"
      ],
      "execution_count": 0,
      "outputs": []
    },
    {
      "cell_type": "markdown",
      "metadata": {
        "id": "poFd3DHSoCcL",
        "colab_type": "text"
      },
      "source": [
        "Run the cell below to test your code, this may take 1-2 minutes."
      ]
    },
    {
      "cell_type": "code",
      "metadata": {
        "id": "LNjyYlujoCcM",
        "colab_type": "code",
        "colab": {
          "base_uri": "https://localhost:8080/",
          "height": 85
        },
        "outputId": "40f20274-fb88-4990-b6cb-159722f9d094"
      },
      "source": [
        "triads_to_try = [('italy', 'italian', 'spain'), ('india', 'delhi', 'japan'), ('man', 'woman', 'boy'), ('small', 'smaller', 'large')]\n",
        "for triad in triads_to_try:\n",
        "    print ('{} -> {} :: {} -> {}'.format( *triad, complete_analogy(*triad,word_to_vec_map)))"
      ],
      "execution_count": 13,
      "outputs": [
        {
          "output_type": "stream",
          "text": [
            "italy -> italian :: spain -> spanish\n",
            "india -> delhi :: japan -> tokyo\n",
            "man -> woman :: boy -> girl\n",
            "small -> smaller :: large -> larger\n"
          ],
          "name": "stdout"
        }
      ]
    },
    {
      "cell_type": "markdown",
      "metadata": {
        "id": "bm0RpmoWoCcN",
        "colab_type": "text"
      },
      "source": [
        "**Expected Output**:\n",
        "\n",
        "<table>\n",
        "    <tr>\n",
        "        <td>\n",
        "            **italy -> italian** ::\n",
        "        </td>\n",
        "        <td>\n",
        "         spain -> spanish\n",
        "        </td>\n",
        "    </tr>\n",
        "        <tr>\n",
        "        <td>\n",
        "            **india -> delhi** ::\n",
        "        </td>\n",
        "        <td>\n",
        "         japan -> tokyo\n",
        "        </td>\n",
        "    </tr>\n",
        "        <tr>\n",
        "        <td>\n",
        "            **man -> woman ** ::\n",
        "        </td>\n",
        "        <td>\n",
        "         boy -> girl\n",
        "        </td>\n",
        "    </tr>\n",
        "        <tr>\n",
        "        <td>\n",
        "            **small -> smaller ** ::\n",
        "        </td>\n",
        "        <td>\n",
        "         large -> larger\n",
        "        </td>\n",
        "    </tr>\n",
        "</table>"
      ]
    },
    {
      "cell_type": "markdown",
      "metadata": {
        "id": "H54WDjoAoCcO",
        "colab_type": "text"
      },
      "source": [
        "Once you get the correct expected output, please feel free to modify the input cells above to test your own analogies. Try to find some other analogy pairs that do work, but also find some where the algorithm doesn't give the right answer: For example, you can try small->smaller as big->?.  "
      ]
    },
    {
      "cell_type": "code",
      "metadata": {
        "id": "HBLTnpLeoCcO",
        "colab_type": "code",
        "colab": {
          "base_uri": "https://localhost:8080/",
          "height": 85
        },
        "outputId": "9f691c9e-ac02-422b-a7a4-dcea2abe4800"
      },
      "source": [
        "triads_to_try = [('small', 'smaller', 'big'), ('italy', 'italian', 'albania'), ('india', 'delhi', 'albania'), ('love', 'joy', 'smile'), ]\n",
        "for triad in triads_to_try:\n",
        "    print ('{} -> {} :: {} -> {}'.format( *triad, complete_analogy(*triad,word_to_vec_map)))"
      ],
      "execution_count": 14,
      "outputs": [
        {
          "output_type": "stream",
          "text": [
            "small -> smaller :: big -> competitors\n",
            "italy -> italian :: albania -> albanian\n",
            "india -> delhi :: albania -> nazran\n",
            "love -> joy :: smile -> phumaphi\n"
          ],
          "name": "stdout"
        }
      ]
    },
    {
      "cell_type": "markdown",
      "metadata": {
        "id": "fnXsJoTcoCcQ",
        "colab_type": "text"
      },
      "source": [
        "### Congratulations!\n",
        "\n",
        "You've come to the end of this assignment. Here are the main points you should remember:\n",
        "\n",
        "- Cosine similarity a good way to compare similarity between pairs of word vectors. (Though L2 distance works too.) \n",
        "- For NLP applications, using a pre-trained set of word vectors from the internet is often a good way to get started. \n",
        "\n",
        "Even though you have finished the graded portions, we recommend you take a look too at the rest of this notebook. \n",
        "\n",
        "Congratulations on finishing the graded portions of this notebook! \n"
      ]
    },
    {
      "cell_type": "markdown",
      "metadata": {
        "id": "0mF3LUoBoCcQ",
        "colab_type": "text"
      },
      "source": [
        "## 3 - Debiasing word vectors (OPTIONAL/UNGRADED) "
      ]
    },
    {
      "cell_type": "markdown",
      "metadata": {
        "id": "puiMnbOXoCcR",
        "colab_type": "text"
      },
      "source": [
        "In the following exercise, you will examine gender biases that can be reflected in a word embedding, and explore algorithms for reducing the bias. In addition to learning about the topic of debiasing, this exercise will also help hone your intuition about what word vectors are doing. This section involves a bit of linear algebra, though you can probably complete it even without being expert in linear algebra, and we encourage you to give it a shot. This portion of the notebook is optional and is not graded. \n",
        "\n",
        "Lets first see how the GloVe word embeddings relate to gender. You will first compute a vector $g = e_{woman}-e_{man}$, where $e_{woman}$ represents the word vector corresponding to the word *woman*, and $e_{man}$ corresponds to the word vector corresponding to the word *man*. The resulting vector $g$ roughly encodes the concept of \"gender\". (You might get a more accurate representation if you compute $g_1 = e_{mother}-e_{father}$, $g_2 = e_{girl}-e_{boy}$, etc. and average over them. But just using $e_{woman}-e_{man}$ will give good enough results for now.) \n"
      ]
    },
    {
      "cell_type": "code",
      "metadata": {
        "id": "pXHMOr47oCcR",
        "colab_type": "code",
        "colab": {
          "base_uri": "https://localhost:8080/",
          "height": 170
        },
        "outputId": "64091c26-df39-459c-914c-01ba989c3569"
      },
      "source": [
        "g = word_to_vec_map['woman'] - word_to_vec_map['man']\n",
        "print(g)"
      ],
      "execution_count": 15,
      "outputs": [
        {
          "output_type": "stream",
          "text": [
            "[-0.087144    0.2182     -0.40986    -0.03922    -0.1032      0.94165\n",
            " -0.06042     0.32988     0.46144    -0.35962     0.31102    -0.86824\n",
            "  0.96006     0.01073     0.24337     0.08193    -1.02722    -0.21122\n",
            "  0.695044   -0.00222     0.29106     0.5053     -0.099454    0.40445\n",
            "  0.30181     0.1355     -0.0606     -0.07131    -0.19245    -0.06115\n",
            " -0.3204      0.07165    -0.13337    -0.25068714 -0.14293    -0.224957\n",
            " -0.149       0.048882    0.12191    -0.27362    -0.165476   -0.20426\n",
            "  0.54376    -0.271425   -0.10245    -0.32108     0.2516     -0.33455\n",
            " -0.04371     0.01258   ]\n"
          ],
          "name": "stdout"
        }
      ]
    },
    {
      "cell_type": "markdown",
      "metadata": {
        "id": "V3izdvVdoCcT",
        "colab_type": "text"
      },
      "source": [
        "Now, you will consider the cosine similarity of different words with $g$. Consider what a positive value of similarity means vs a negative cosine similarity. "
      ]
    },
    {
      "cell_type": "code",
      "metadata": {
        "scrolled": false,
        "id": "xb3_WF99oCcT",
        "colab_type": "code",
        "colab": {
          "base_uri": "https://localhost:8080/",
          "height": 204
        },
        "outputId": "d369405f-9495-4f60-83df-0c54459b7a9e"
      },
      "source": [
        "print ('List of names and their similarities with constructed vector:')\n",
        "\n",
        "# girls and boys name\n",
        "name_list = ['john', 'marie', 'sophie', 'ronaldo', 'priya', 'rahul', 'danielle', 'reza', 'katy', 'yasmin']\n",
        "\n",
        "for w in name_list:\n",
        "    print (w, cosine_similarity(word_to_vec_map[w], g))"
      ],
      "execution_count": 16,
      "outputs": [
        {
          "output_type": "stream",
          "text": [
            "List of names and their similarities with constructed vector:\n",
            "john -0.23163356145973724\n",
            "marie 0.315597935396073\n",
            "sophie 0.31868789859418784\n",
            "ronaldo -0.31244796850329437\n",
            "priya 0.17632041839009402\n",
            "rahul -0.16915471039231716\n",
            "danielle 0.24393299216283895\n",
            "reza -0.07930429672199553\n",
            "katy 0.2831068659572615\n",
            "yasmin 0.23313857767928758\n"
          ],
          "name": "stdout"
        }
      ]
    },
    {
      "cell_type": "markdown",
      "metadata": {
        "id": "tm3aPe-MoCcV",
        "colab_type": "text"
      },
      "source": [
        "As you can see, female first names tend to have a positive cosine similarity with our constructed vector $g$, while male first names tend to have a negative cosine similarity. This is not suprising, and the result seems acceptable. \n",
        "\n",
        "But let's try with some other words."
      ]
    },
    {
      "cell_type": "code",
      "metadata": {
        "id": "8sVNlxDloCcV",
        "colab_type": "code",
        "colab": {
          "base_uri": "https://localhost:8080/",
          "height": 306
        },
        "outputId": "64e7e017-0ffc-49b0-e937-2dbdc87129e0"
      },
      "source": [
        "print('Other words and their similarities:')\n",
        "word_list = ['lipstick', 'guns', 'science', 'arts', 'literature', 'warrior','doctor', 'tree', 'receptionist', \n",
        "             'technology',  'fashion', 'teacher', 'engineer', 'pilot', 'computer', 'singer']\n",
        "for w in word_list:\n",
        "    print (w, cosine_similarity(word_to_vec_map[w], g))"
      ],
      "execution_count": 17,
      "outputs": [
        {
          "output_type": "stream",
          "text": [
            "Other words and their similarities:\n",
            "lipstick 0.2769191625638267\n",
            "guns -0.1888485567898898\n",
            "science -0.06082906540929701\n",
            "arts 0.008189312385880337\n",
            "literature 0.06472504433459932\n",
            "warrior -0.20920164641125288\n",
            "doctor 0.11895289410935041\n",
            "tree -0.07089399175478091\n",
            "receptionist 0.33077941750593737\n",
            "technology -0.13193732447554302\n",
            "fashion 0.03563894625772699\n",
            "teacher 0.17920923431825664\n",
            "engineer -0.0803928049452407\n",
            "pilot 0.0010764498991916937\n",
            "computer -0.10330358873850498\n",
            "singer 0.1850051813649629\n"
          ],
          "name": "stdout"
        }
      ]
    },
    {
      "cell_type": "markdown",
      "metadata": {
        "id": "XcwKcPiuoCcY",
        "colab_type": "text"
      },
      "source": [
        "Do you notice anything surprising? It is astonishing how these results reflect certain unhealthy gender stereotypes. For example, \"computer\" is closer to \"man\" while \"literature\" is closer to \"woman\". Ouch! \n",
        "\n",
        "We'll see below how to reduce the bias of these vectors, using an algorithm due to [Boliukbasi et al., 2016](https://arxiv.org/abs/1607.06520). Note that some word pairs such as \"actor\"/\"actress\" or \"grandmother\"/\"grandfather\" should remain gender specific, while other words such as \"receptionist\" or \"technology\" should be neutralized, i.e. not be gender-related. You will have to treat these two type of words differently when debiasing.\n",
        "\n",
        "### 3.1 - Neutralize bias for non-gender specific words \n",
        "\n",
        "The figure below should help you visualize what neutralizing does. If you're using a 50-dimensional word embedding, the 50 dimensional space can be split into two parts: The bias-direction $g$, and the remaining 49 dimensions, which we'll call $g_{\\perp}$. In linear algebra, we say that the 49 dimensional $g_{\\perp}$ is perpendicular (or \"orthogonal\") to $g$, meaning it is at 90 degrees to $g$. The neutralization step takes a vector such as $e_{receptionist}$ and zeros out the component in the direction of $g$, giving us $e_{receptionist}^{debiased}$. \n",
        "\n",
        "Even though $g_{\\perp}$ is 49 dimensional, given the limitations of what we can draw on a screen, we illustrate it using a 1 dimensional axis below. \n",
        "\n",
        "<img src=\"https://docs.google.com/uc?export=download&id=1O9I4btIIAhGZwwcnvAgyRFlMctDbt036\" style=\"width:650px;height:400px;\">\n",
        "<caption><center> **Figure 2**: The word vector for \"receptionist\" represented before and after applying the neutralize operation. </center></caption>\n",
        "\n",
        "**Exercise**: Implement `neutralize()` to remove the bias of words such as \"receptionist\" or \"scientist\". Given an input embedding $e$, you can use the following formulas to compute $e^{debiased}$: \n",
        "\n",
        "$$e^{bias\\_component} = \\frac{e \\cdot g}{||g||_2^2} * g\\tag{2}$$\n",
        "$$e^{debiased} = e - e^{bias\\_component}\\tag{3}$$\n",
        "\n",
        "If you are an expert in linear algebra, you may recognize $e^{bias\\_component}$ as the projection of $e$ onto the direction $g$. If you're not an expert in linear algebra, don't worry about this.\n",
        "\n",
        "<!-- \n",
        "**Reminder**: a vector $u$ can be split into two parts: its projection over a vector-axis $v_B$ and its projection over the axis orthogonal to $v$:\n",
        "$$u = u_B + u_{\\perp}$$\n",
        "where : $u_B = $ and $ u_{\\perp} = u - u_B $\n",
        "!--> "
      ]
    },
    {
      "cell_type": "code",
      "metadata": {
        "id": "aAnTbv2WoCcZ",
        "colab_type": "code",
        "colab": {}
      },
      "source": [
        "def neutralize(word, g, word_to_vec_map):\n",
        "    \"\"\"\n",
        "    Removes the bias of \"word\" by projecting it on the space orthogonal to the bias axis. \n",
        "    This function ensures that gender neutral words are zero in the gender subspace.\n",
        "    \n",
        "    Arguments:\n",
        "        word -- string indicating the word to debias\n",
        "        g -- numpy-array of shape (50,), corresponding to the bias axis (such as gender)\n",
        "        word_to_vec_map -- dictionary mapping words to their corresponding vectors.\n",
        "    \n",
        "    Returns:\n",
        "        e_debiased -- neutralized word vector representation of the input \"word\"\n",
        "    \"\"\"\n",
        "    \n",
        "    ### START CODE HERE ###\n",
        "    # Select word vector representation of \"word\". Use word_to_vec_map. (≈ 1 line)\n",
        "    e = word_to_vec_map[word]\n",
        "    \n",
        "    # Compute e_biascomponent using the formula give above. (≈ 1 line)\n",
        "    e_biascomponent = (np.dot(e, g) / np.sum(np.square(g))) * g\n",
        " \n",
        "    # Neutralize e by substracting e_biascomponent from it \n",
        "    # e_debiased should be equal to its orthogonal projection. (≈ 1 line)\n",
        "    e_debiased = e - e_biascomponent\n",
        "    ### END CODE HERE ###\n",
        "    \n",
        "    return e_debiased"
      ],
      "execution_count": 0,
      "outputs": []
    },
    {
      "cell_type": "code",
      "metadata": {
        "id": "XvfLuwXOoCcb",
        "colab_type": "code",
        "colab": {
          "base_uri": "https://localhost:8080/",
          "height": 51
        },
        "outputId": "c41ecd5c-80c8-4e9b-e04a-bba8352ee2c8"
      },
      "source": [
        "e = \"receptionist\"\n",
        "print(\"cosine similarity between \" + e + \" and g, before neutralizing: \", cosine_similarity(word_to_vec_map[\"receptionist\"], g))\n",
        "\n",
        "e_debiased = neutralize(\"receptionist\", g, word_to_vec_map)\n",
        "print(\"cosine similarity between \" + e + \" and g, after neutralizing: \", cosine_similarity(e_debiased, g))"
      ],
      "execution_count": 19,
      "outputs": [
        {
          "output_type": "stream",
          "text": [
            "cosine similarity between receptionist and g, before neutralizing:  0.33077941750593737\n",
            "cosine similarity between receptionist and g, after neutralizing:  -2.6832242276243644e-17\n"
          ],
          "name": "stdout"
        }
      ]
    },
    {
      "cell_type": "markdown",
      "metadata": {
        "id": "fP5TysNxoCcd",
        "colab_type": "text"
      },
      "source": [
        "**Expected Output**: The second result is essentially 0, up to numerical roundof (on the order of $10^{-17}$).\n",
        "\n",
        "\n",
        "<table>\n",
        "    <tr>\n",
        "        <td>\n",
        "            **cosine similarity between receptionist and g, before neutralizing:** :\n",
        "        </td>\n",
        "        <td>\n",
        "         0.330779417506\n",
        "        </td>\n",
        "    </tr>\n",
        "        <tr>\n",
        "        <td>\n",
        "            **cosine similarity between receptionist and g, after neutralizing:** :\n",
        "        </td>\n",
        "        <td>\n",
        "         -3.26732746085e-17\n",
        "    </tr>\n",
        "</table>"
      ]
    },
    {
      "cell_type": "markdown",
      "metadata": {
        "id": "c6AaVhbroCcd",
        "colab_type": "text"
      },
      "source": [
        "### 3.2 - Equalization algorithm for gender-specific words\n",
        "\n",
        "Next, lets see how debiasing can also be applied to word pairs such as \"actress\" and \"actor.\" Equalization is applied to pairs of words that you might want to have differ only through the gender property. As a concrete example, suppose that \"actress\" is closer to \"babysit\" than \"actor.\" By applying neutralizing to \"babysit\" we can reduce the gender-stereotype associated with babysitting. But this still does not guarantee that \"actor\" and \"actress\" are equidistant from \"babysit.\" The equalization algorithm takes care of this. \n",
        "\n",
        "The key idea behind equalization is to make sure that a particular pair of words are equi-distant from the 49-dimensional $g_\\perp$. The equalization step also ensures that the two equalized steps are now the same distance from $e_{receptionist}^{debiased}$, or from any other work that has been neutralized. In pictures, this is how equalization works: \n",
        "\n",
        "<img src=\"https://docs.google.com/uc?export=download&id=1Rv3gxsXbSCzmArBWLKmmxxNcK9BcmLex\" style=\"width:650px;height:400px;\">\n",
        "The derivation of the linear algebra to do this is a bit more complex. (See Bolukbasi et al., 2016 for details.) But the key equations are: \n",
        "\n",
        "$$ \\mu = \\frac{e_{w1} + e_{w2}}{2}\\tag{4}$$ \n",
        "\n",
        "$$ \\mu_{B} = \\frac {\\mu \\cdot \\text{bias_axis}}{||\\text{bias_axis}||_2^2} *\\text{bias_axis}\n",
        "\\tag{5}$$ \n",
        "\n",
        "$$\\mu_{\\perp} = \\mu - \\mu_{B} \\tag{6}$$\n",
        "\n",
        "$$ e_{w1B} = \\frac {e_{w1} \\cdot \\text{bias_axis}}{||\\text{bias_axis}||_2^2} *\\text{bias_axis}\n",
        "\\tag{7}$$ \n",
        "$$ e_{w2B} = \\frac {e_{w2} \\cdot \\text{bias_axis}}{||\\text{bias_axis}||_2^2} *\\text{bias_axis}\n",
        "\\tag{8}$$\n",
        "\n",
        "\n",
        "$$e_{w1B}^{corrected} = \\sqrt{ |{1 - ||\\mu_{\\perp} ||^2_2} |} * \\frac{e_{\\text{w1B}} - \\mu_B} {||(e_{w1} - \\mu_{\\perp}) - \\mu_B||} \\tag{9}$$\n",
        "\n",
        "\n",
        "$$e_{w2B}^{corrected} = \\sqrt{ |{1 - ||\\mu_{\\perp} ||^2_2} |} * \\frac{e_{\\text{w2B}} - \\mu_B} {||(e_{w2} - \\mu_{\\perp}) - \\mu_B||} \\tag{10}$$\n",
        "\n",
        "$$e_1 = e_{w1B}^{corrected} + \\mu_{\\perp} \\tag{11}$$\n",
        "$$e_2 = e_{w2B}^{corrected} + \\mu_{\\perp} \\tag{12}$$\n",
        "\n",
        "\n",
        "**Exercise**: Implement the function below. Use the equations above to get the final equalized version of the pair of words. Good luck!"
      ]
    },
    {
      "cell_type": "code",
      "metadata": {
        "id": "D3dg4cY6oCce",
        "colab_type": "code",
        "colab": {}
      },
      "source": [
        "def L2_norm_square(vector):\n",
        "    return np.sum(np.square(vector))"
      ],
      "execution_count": 0,
      "outputs": []
    },
    {
      "cell_type": "code",
      "metadata": {
        "id": "n_1nYhQyoCcg",
        "colab_type": "code",
        "colab": {}
      },
      "source": [
        "def equalize(pair, bias_axis, word_to_vec_map):\n",
        "    \"\"\"\n",
        "    Debias gender specific words by following the equalize method described in the figure above.\n",
        "    \n",
        "    Arguments:\n",
        "    pair -- pair of strings of gender specific words to debias, e.g. (\"actress\", \"actor\") \n",
        "    bias_axis -- numpy-array of shape (50,), vector corresponding to the bias axis, e.g. gender\n",
        "    word_to_vec_map -- dictionary mapping words to their corresponding vectors\n",
        "    \n",
        "    Returns\n",
        "    e_1 -- word vector corresponding to the first word\n",
        "    e_2 -- word vector corresponding to the second word\n",
        "    \"\"\"\n",
        "    \n",
        "    ### START CODE HERE ###\n",
        "    # Step 1: Select word vector representation of \"word\". Use word_to_vec_map. (≈ 2 lines)\n",
        "    w1, w2 = pair\n",
        "    e_w1, e_w2 = [word_to_vec_map[item] for item in [w1, w2]]\n",
        "    \n",
        "    # Step 2: Compute the mean of e_w1 and e_w2 (≈ 1 line)\n",
        "    mu = (e_w1 + e_w2) / 2\n",
        "\n",
        "    # Step 3: Compute the projections of mu over the bias axis and the orthogonal axis (≈ 2 lines)\n",
        "    mu_B = (np.dot(mu, g) / L2_norm_square(g)) * g\n",
        "    mu_orth = mu - mu_B\n",
        "\n",
        "    # Step 4: Use equations (7) and (8) to compute e_w1B and e_w2B (≈2 lines)\n",
        "    e_w1B = (np.dot(e_w1, g) / L2_norm_square(g)) * g\n",
        "    e_w2B = (np.dot(e_w2, g) / L2_norm_square(g)) * g\n",
        "        \n",
        "    # Step 5: Adjust the Bias part of e_w1B and e_w2B using the formulas (9) and (10) given above (≈2 lines)\n",
        "    corrected_e_w1B = (np.sqrt(np.abs(1 - L2_norm_square(mu_orth)))) * ((e_w1B - mu_B) / (np.sqrt(L2_norm_square(e_w1 - mu_orth - mu_B))))\n",
        "    corrected_e_w2B = (np.sqrt(np.abs(1 - L2_norm_square(mu_orth)))) * ((e_w2B - mu_B) / (np.sqrt(L2_norm_square(e_w2 - mu_orth - mu_B))))\n",
        "\n",
        "    # Step 6: Debias by equalizing e1 and e2 to the sum of their corrected projections (≈2 lines)\n",
        "    e1 = corrected_e_w1B + mu_orth\n",
        "    e2 = corrected_e_w2B + mu_orth\n",
        "                                                                \n",
        "    ### END CODE HERE ###\n",
        "    \n",
        "    return e1, e2"
      ],
      "execution_count": 0,
      "outputs": []
    },
    {
      "cell_type": "code",
      "metadata": {
        "scrolled": true,
        "id": "rl8GS0f_oCch",
        "colab_type": "code",
        "colab": {
          "base_uri": "https://localhost:8080/",
          "height": 136
        },
        "outputId": "45a21384-2289-4449-b594-808f97d2e972"
      },
      "source": [
        "print(\"cosine similarities before equalizing:\")\n",
        "print(\"cosine_similarity(word_to_vec_map[\\\"man\\\"], gender) = \", cosine_similarity(word_to_vec_map[\"man\"], g))\n",
        "print(\"cosine_similarity(word_to_vec_map[\\\"woman\\\"], gender) = \", cosine_similarity(word_to_vec_map[\"woman\"], g))\n",
        "print()\n",
        "e1, e2 = equalize((\"man\", \"woman\"), g, word_to_vec_map)\n",
        "print(\"cosine similarities after equalizing:\")\n",
        "print(\"cosine_similarity(e1, gender) = \", cosine_similarity(e1, g))\n",
        "print(\"cosine_similarity(e2, gender) = \", cosine_similarity(e2, g))"
      ],
      "execution_count": 22,
      "outputs": [
        {
          "output_type": "stream",
          "text": [
            "cosine similarities before equalizing:\n",
            "cosine_similarity(word_to_vec_map[\"man\"], gender) =  -0.11711095765336832\n",
            "cosine_similarity(word_to_vec_map[\"woman\"], gender) =  0.35666618846270376\n",
            "\n",
            "cosine similarities after equalizing:\n",
            "cosine_similarity(e1, gender) =  -0.7004364289309387\n",
            "cosine_similarity(e2, gender) =  0.7004364289309389\n"
          ],
          "name": "stdout"
        }
      ]
    },
    {
      "cell_type": "markdown",
      "metadata": {
        "id": "e8UqigOboCcj",
        "colab_type": "text"
      },
      "source": [
        "**Expected Output**:\n",
        "\n",
        "cosine similarities before equalizing:\n",
        "<table>\n",
        "    <tr>\n",
        "        <td>\n",
        "            **cosine_similarity(word_to_vec_map[\"man\"], gender)** =\n",
        "        </td>\n",
        "        <td>\n",
        "         -0.117110957653\n",
        "        </td>\n",
        "    </tr>\n",
        "        <tr>\n",
        "        <td>\n",
        "            **cosine_similarity(word_to_vec_map[\"woman\"], gender)** =\n",
        "        </td>\n",
        "        <td>\n",
        "         0.356666188463\n",
        "        </td>\n",
        "    </tr>\n",
        "</table>\n",
        "\n",
        "cosine similarities after equalizing:\n",
        "<table>\n",
        "    <tr>\n",
        "        <td>\n",
        "            **cosine_similarity(u1, gender)** =\n",
        "        </td>\n",
        "        <td>\n",
        "         -0.700436428931\n",
        "        </td>\n",
        "    </tr>\n",
        "        <tr>\n",
        "        <td>\n",
        "            **cosine_similarity(u2, gender)** =\n",
        "        </td>\n",
        "        <td>\n",
        "         0.700436428931\n",
        "        </td>\n",
        "    </tr>\n",
        "</table>"
      ]
    },
    {
      "cell_type": "markdown",
      "metadata": {
        "collapsed": true,
        "id": "CwNXoBuJoCck",
        "colab_type": "text"
      },
      "source": [
        "Please feel free to play with the input words in the cell above, to apply equalization to other pairs of words. \n",
        "\n",
        "These debiasing algorithms are very helpful for reducing bias, but are not perfect and do not eliminate all traces of bias. For example, one weakness of this implementation was that the bias direction $g$ was defined using only the pair of words _woman_ and _man_. As discussed earlier, if $g$ were defined by computing $g_1 = e_{woman} - e_{man}$; $g_2 = e_{mother} - e_{father}$; $g_3 = e_{girl} - e_{boy}$; and so on and averaging over them, you would obtain a better estimate of the \"gender\" dimension in the 50 dimensional word embedding space. Feel free to play with such variants as well.  \n",
        "                     "
      ]
    },
    {
      "cell_type": "markdown",
      "metadata": {
        "id": "vQ3JvOOFoCcl",
        "colab_type": "text"
      },
      "source": [
        "### Congratulations\n",
        "\n",
        "You have come to the end of this notebook, and have seen a lot of the ways that word vectors can be used as well as  modified. \n",
        "\n",
        "Congratulations on finishing this notebook! \n"
      ]
    },
    {
      "cell_type": "markdown",
      "metadata": {
        "id": "4hTpmW7XoCcm",
        "colab_type": "text"
      },
      "source": [
        "**References**:\n",
        "- The debiasing algorithm is from Bolukbasi et al., 2016, [Man is to Computer Programmer as Woman is to\n",
        "Homemaker? Debiasing Word Embeddings](https://papers.nips.cc/paper/6228-man-is-to-computer-programmer-as-woman-is-to-homemaker-debiasing-word-embeddings.pdf)\n",
        "- The GloVe word embeddings were due to Jeffrey Pennington, Richard Socher, and Christopher D. Manning. (https://nlp.stanford.edu/projects/glove/)\n"
      ]
    },
    {
      "cell_type": "code",
      "metadata": {
        "id": "sw295hUDoCcm",
        "colab_type": "code",
        "colab": {}
      },
      "source": [
        ""
      ],
      "execution_count": 0,
      "outputs": []
    }
  ]
}