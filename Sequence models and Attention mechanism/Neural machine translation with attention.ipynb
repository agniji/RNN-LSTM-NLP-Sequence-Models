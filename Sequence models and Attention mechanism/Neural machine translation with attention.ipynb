{
  "nbformat": 4,
  "nbformat_minor": 0,
  "metadata": {
    "coursera": {
      "course_slug": "nlp-sequence-models",
      "graded_item_id": "n16CQ",
      "launcher_item_id": "npjGi"
    },
    "kernelspec": {
      "display_name": "Python 3",
      "language": "python",
      "name": "python3"
    },
    "language_info": {
      "codemirror_mode": {
        "name": "ipython",
        "version": 3
      },
      "file_extension": ".py",
      "mimetype": "text/x-python",
      "name": "python",
      "nbconvert_exporter": "python",
      "pygments_lexer": "ipython3",
      "version": "3.6.0"
    },
    "colab": {
      "name": "Neural machine translation with attention.ipynb",
      "provenance": [],
      "collapsed_sections": [],
      "include_colab_link": true
    }
  },
  "cells": [
    {
      "cell_type": "markdown",
      "metadata": {
        "id": "view-in-github",
        "colab_type": "text"
      },
      "source": [
        "<a href=\"https://colab.research.google.com/github/georgezoto/RNN-LSTM-NLP-Sequence-Models/blob/master/Sequence%20models%20%2B%20Attention%20mechanism/Neural%20machine%20translation%20with%20attention.ipynb\" target=\"_parent\"><img src=\"https://colab.research.google.com/assets/colab-badge.svg\" alt=\"Open In Colab\"/></a>"
      ]
    },
    {
      "cell_type": "code",
      "metadata": {
        "id": "O4zNH1qnxr6x",
        "colab_type": "code",
        "colab": {}
      },
      "source": [
        "from google.colab import drive\n",
        "drive.mount('/content/gdrive')"
      ],
      "execution_count": 0,
      "outputs": []
    },
    {
      "cell_type": "code",
      "metadata": {
        "id": "gNfWmlGcx3kh",
        "colab_type": "code",
        "colab": {}
      },
      "source": [
        "google_drive_path = '/content/gdrive/My Drive/+Colab Notebooks/RNN-LSTM-NLP-Sequence-Models/Sequence models + Attention mechanism/Neural Machine Translation with Attention'"
      ],
      "execution_count": 0,
      "outputs": []
    },
    {
      "cell_type": "markdown",
      "metadata": {
        "id": "J0Od7abzxr61",
        "colab_type": "text"
      },
      "source": [
        "# Neural Machine Translation\n",
        "\n",
        "Welcome to your first programming assignment for this week! \n",
        "\n",
        "You will build a Neural Machine Translation (NMT) model to translate human readable dates (\"25th of June, 2009\") into machine readable dates (\"2009-06-25\"). You will do this using an attention model, one of the most sophisticated sequence to sequence models. \n",
        "\n",
        "This notebook was produced together with NVIDIA's Deep Learning Institute. \n",
        "\n",
        "Let's load all the packages you will need for this assignment."
      ]
    },
    {
      "cell_type": "code",
      "metadata": {
        "id": "43QCgt5syj8o",
        "colab_type": "code",
        "outputId": "763c5341-a0a8-4170-bc1b-9317d8afe39a",
        "colab": {
          "base_uri": "https://localhost:8080/",
          "height": 173
        }
      },
      "source": [
        "!pip install faker"
      ],
      "execution_count": 3,
      "outputs": [
        {
          "output_type": "stream",
          "text": [
            "Collecting faker\n",
            "\u001b[?25l  Downloading https://files.pythonhosted.org/packages/d4/ed/2fd5337ed405c4258dde1254e60f4e8ef9f1787576c0a2cd0d750b1716a6/Faker-2.0.3-py2.py3-none-any.whl (892kB)\n",
            "\r\u001b[K     |▍                               | 10kB 17.1MB/s eta 0:00:01\r\u001b[K     |▊                               | 20kB 3.2MB/s eta 0:00:01\r\u001b[K     |█                               | 30kB 4.6MB/s eta 0:00:01\r\u001b[K     |█▌                              | 40kB 3.0MB/s eta 0:00:01\r\u001b[K     |█▉                              | 51kB 3.7MB/s eta 0:00:01\r\u001b[K     |██▏                             | 61kB 4.4MB/s eta 0:00:01\r\u001b[K     |██▋                             | 71kB 5.0MB/s eta 0:00:01\r\u001b[K     |███                             | 81kB 5.6MB/s eta 0:00:01\r\u001b[K     |███▎                            | 92kB 6.2MB/s eta 0:00:01\r\u001b[K     |███▊                            | 102kB 4.9MB/s eta 0:00:01\r\u001b[K     |████                            | 112kB 4.9MB/s eta 0:00:01\r\u001b[K     |████▍                           | 122kB 4.9MB/s eta 0:00:01\r\u001b[K     |████▊                           | 133kB 4.9MB/s eta 0:00:01\r\u001b[K     |█████▏                          | 143kB 4.9MB/s eta 0:00:01\r\u001b[K     |█████▌                          | 153kB 4.9MB/s eta 0:00:01\r\u001b[K     |█████▉                          | 163kB 4.9MB/s eta 0:00:01\r\u001b[K     |██████▎                         | 174kB 4.9MB/s eta 0:00:01\r\u001b[K     |██████▋                         | 184kB 4.9MB/s eta 0:00:01\r\u001b[K     |███████                         | 194kB 4.9MB/s eta 0:00:01\r\u001b[K     |███████▍                        | 204kB 4.9MB/s eta 0:00:01\r\u001b[K     |███████▊                        | 215kB 4.9MB/s eta 0:00:01\r\u001b[K     |████████                        | 225kB 4.9MB/s eta 0:00:01\r\u001b[K     |████████▌                       | 235kB 4.9MB/s eta 0:00:01\r\u001b[K     |████████▉                       | 245kB 4.9MB/s eta 0:00:01\r\u001b[K     |█████████▏                      | 256kB 4.9MB/s eta 0:00:01\r\u001b[K     |█████████▌                      | 266kB 4.9MB/s eta 0:00:01\r\u001b[K     |██████████                      | 276kB 4.9MB/s eta 0:00:01\r\u001b[K     |██████████▎                     | 286kB 4.9MB/s eta 0:00:01\r\u001b[K     |██████████▋                     | 296kB 4.9MB/s eta 0:00:01\r\u001b[K     |███████████                     | 307kB 4.9MB/s eta 0:00:01\r\u001b[K     |███████████▍                    | 317kB 4.9MB/s eta 0:00:01\r\u001b[K     |███████████▊                    | 327kB 4.9MB/s eta 0:00:01\r\u001b[K     |████████████▏                   | 337kB 4.9MB/s eta 0:00:01\r\u001b[K     |████████████▌                   | 348kB 4.9MB/s eta 0:00:01\r\u001b[K     |████████████▉                   | 358kB 4.9MB/s eta 0:00:01\r\u001b[K     |█████████████▎                  | 368kB 4.9MB/s eta 0:00:01\r\u001b[K     |█████████████▋                  | 378kB 4.9MB/s eta 0:00:01\r\u001b[K     |██████████████                  | 389kB 4.9MB/s eta 0:00:01\r\u001b[K     |██████████████▎                 | 399kB 4.9MB/s eta 0:00:01\r\u001b[K     |██████████████▊                 | 409kB 4.9MB/s eta 0:00:01\r\u001b[K     |███████████████                 | 419kB 4.9MB/s eta 0:00:01\r\u001b[K     |███████████████▍                | 430kB 4.9MB/s eta 0:00:01\r\u001b[K     |███████████████▉                | 440kB 4.9MB/s eta 0:00:01\r\u001b[K     |████████████████▏               | 450kB 4.9MB/s eta 0:00:01\r\u001b[K     |████████████████▌               | 460kB 4.9MB/s eta 0:00:01\r\u001b[K     |█████████████████               | 471kB 4.9MB/s eta 0:00:01\r\u001b[K     |█████████████████▎              | 481kB 4.9MB/s eta 0:00:01\r\u001b[K     |█████████████████▋              | 491kB 4.9MB/s eta 0:00:01\r\u001b[K     |██████████████████              | 501kB 4.9MB/s eta 0:00:01\r\u001b[K     |██████████████████▍             | 512kB 4.9MB/s eta 0:00:01\r\u001b[K     |██████████████████▊             | 522kB 4.9MB/s eta 0:00:01\r\u001b[K     |███████████████████             | 532kB 4.9MB/s eta 0:00:01\r\u001b[K     |███████████████████▌            | 542kB 4.9MB/s eta 0:00:01\r\u001b[K     |███████████████████▉            | 552kB 4.9MB/s eta 0:00:01\r\u001b[K     |████████████████████▏           | 563kB 4.9MB/s eta 0:00:01\r\u001b[K     |████████████████████▋           | 573kB 4.9MB/s eta 0:00:01\r\u001b[K     |█████████████████████           | 583kB 4.9MB/s eta 0:00:01\r\u001b[K     |█████████████████████▎          | 593kB 4.9MB/s eta 0:00:01\r\u001b[K     |█████████████████████▊          | 604kB 4.9MB/s eta 0:00:01\r\u001b[K     |██████████████████████          | 614kB 4.9MB/s eta 0:00:01\r\u001b[K     |██████████████████████▍         | 624kB 4.9MB/s eta 0:00:01\r\u001b[K     |██████████████████████▊         | 634kB 4.9MB/s eta 0:00:01\r\u001b[K     |███████████████████████▏        | 645kB 4.9MB/s eta 0:00:01\r\u001b[K     |███████████████████████▌        | 655kB 4.9MB/s eta 0:00:01\r\u001b[K     |███████████████████████▉        | 665kB 4.9MB/s eta 0:00:01\r\u001b[K     |████████████████████████▎       | 675kB 4.9MB/s eta 0:00:01\r\u001b[K     |████████████████████████▋       | 686kB 4.9MB/s eta 0:00:01\r\u001b[K     |█████████████████████████       | 696kB 4.9MB/s eta 0:00:01\r\u001b[K     |█████████████████████████▍      | 706kB 4.9MB/s eta 0:00:01\r\u001b[K     |█████████████████████████▊      | 716kB 4.9MB/s eta 0:00:01\r\u001b[K     |██████████████████████████      | 727kB 4.9MB/s eta 0:00:01\r\u001b[K     |██████████████████████████▌     | 737kB 4.9MB/s eta 0:00:01\r\u001b[K     |██████████████████████████▉     | 747kB 4.9MB/s eta 0:00:01\r\u001b[K     |███████████████████████████▏    | 757kB 4.9MB/s eta 0:00:01\r\u001b[K     |███████████████████████████▌    | 768kB 4.9MB/s eta 0:00:01\r\u001b[K     |████████████████████████████    | 778kB 4.9MB/s eta 0:00:01\r\u001b[K     |████████████████████████████▎   | 788kB 4.9MB/s eta 0:00:01\r\u001b[K     |████████████████████████████▋   | 798kB 4.9MB/s eta 0:00:01\r\u001b[K     |█████████████████████████████   | 808kB 4.9MB/s eta 0:00:01\r\u001b[K     |█████████████████████████████▍  | 819kB 4.9MB/s eta 0:00:01\r\u001b[K     |█████████████████████████████▊  | 829kB 4.9MB/s eta 0:00:01\r\u001b[K     |██████████████████████████████▏ | 839kB 4.9MB/s eta 0:00:01\r\u001b[K     |██████████████████████████████▌ | 849kB 4.9MB/s eta 0:00:01\r\u001b[K     |██████████████████████████████▉ | 860kB 4.9MB/s eta 0:00:01\r\u001b[K     |███████████████████████████████▎| 870kB 4.9MB/s eta 0:00:01\r\u001b[K     |███████████████████████████████▋| 880kB 4.9MB/s eta 0:00:01\r\u001b[K     |████████████████████████████████| 890kB 4.9MB/s eta 0:00:01\r\u001b[K     |████████████████████████████████| 901kB 4.9MB/s \n",
            "\u001b[?25hRequirement already satisfied: text-unidecode==1.3 in /usr/local/lib/python3.6/dist-packages (from faker) (1.3)\n",
            "Requirement already satisfied: python-dateutil>=2.4 in /usr/local/lib/python3.6/dist-packages (from faker) (2.6.1)\n",
            "Requirement already satisfied: six>=1.10 in /usr/local/lib/python3.6/dist-packages (from faker) (1.12.0)\n",
            "Installing collected packages: faker\n",
            "Successfully installed faker-2.0.3\n"
          ],
          "name": "stdout"
        }
      ]
    },
    {
      "cell_type": "code",
      "metadata": {
        "id": "vMegVAPGX6QM",
        "colab_type": "code",
        "colab": {}
      },
      "source": [
        "#pip install keras==2.0.7"
      ],
      "execution_count": 0,
      "outputs": []
    },
    {
      "cell_type": "code",
      "metadata": {
        "id": "lpABJv1eXtZV",
        "colab_type": "code",
        "colab": {}
      },
      "source": [
        "#import keras\n",
        "#keras.__version__"
      ],
      "execution_count": 0,
      "outputs": []
    },
    {
      "cell_type": "code",
      "metadata": {
        "id": "Y7NcFTc-xr61",
        "colab_type": "code",
        "outputId": "b4063527-a3e9-4d1c-9f7a-850c57a4a677",
        "colab": {
          "base_uri": "https://localhost:8080/",
          "height": 80
        }
      },
      "source": [
        "import sys\n",
        "sys.path.append(google_drive_path)\n",
        "\n",
        "from keras.layers import Bidirectional, Concatenate, Permute, Dot, Input, LSTM, Multiply\n",
        "from keras.layers import RepeatVector, Dense, Activation, Lambda\n",
        "from keras.optimizers import Adam\n",
        "from keras.utils import to_categorical\n",
        "from keras.models import load_model, Model\n",
        "import keras.backend as K\n",
        "import numpy as np\n",
        "\n",
        "from faker import Faker\n",
        "import random\n",
        "from tqdm import tqdm\n",
        "from babel.dates import format_date\n",
        "from nmt_utils import *\n",
        "import matplotlib.pyplot as plt\n",
        "%matplotlib inline"
      ],
      "execution_count": 6,
      "outputs": [
        {
          "output_type": "stream",
          "text": [
            "Using TensorFlow backend.\n"
          ],
          "name": "stderr"
        },
        {
          "output_type": "display_data",
          "data": {
            "text/html": [
              "<p style=\"color: red;\">\n",
              "The default version of TensorFlow in Colab will soon switch to TensorFlow 2.x.<br>\n",
              "We recommend you <a href=\"https://www.tensorflow.org/guide/migrate\" target=\"_blank\">upgrade</a> now \n",
              "or ensure your notebook will continue to use TensorFlow 1.x via the <code>%tensorflow_version 1.x</code> magic:\n",
              "<a href=\"https://colab.research.google.com/notebooks/tensorflow_version.ipynb\" target=\"_blank\">more info</a>.</p>\n"
            ],
            "text/plain": [
              "<IPython.core.display.HTML object>"
            ]
          },
          "metadata": {
            "tags": []
          }
        }
      ]
    },
    {
      "cell_type": "markdown",
      "metadata": {
        "id": "poBB3rFhOLc9",
        "colab_type": "text"
      },
      "source": [
        "The default version of TensorFlow in Colab will soon switch to TensorFlow 2.x.\n",
        "We recommend you upgrade now or ensure your notebook will continue to use TensorFlow 1.x via the %tensorflow_version 1.x magic: more info.\n",
        "\n",
        "Restart runtime using 'Runtime' -> 'Restart runtime...'  \n",
        "%tensorflow_version 1.x  \n",
        "import tensorflow as tf  \n",
        "print(tf.__version__)  "
      ]
    },
    {
      "cell_type": "markdown",
      "metadata": {
        "id": "M1S4SGvxxr63",
        "colab_type": "text"
      },
      "source": [
        "## 1 - Translating human readable dates into machine readable dates\n",
        "\n",
        "The model you will build here could be used to translate from one language to another, such as translating from English to Hindi. However, language translation requires massive datasets and usually takes days of training on GPUs. To give you a place to experiment with these models even without using massive datasets, we will instead use a simpler \"date translation\" task. \n",
        "\n",
        "The network will input a date written in a variety of possible formats (*e.g. \"the 29th of August 1958\", \"03/30/1968\", \"24 JUNE 1987\"*) and translate them into standardized, machine readable dates (*e.g. \"1958-08-29\", \"1968-03-30\", \"1987-06-24\"*). We will have the network learn to output dates in the common machine-readable format YYYY-MM-DD. \n",
        "\n",
        "\n",
        "\n",
        "<!-- \n",
        "Take a look at [nmt_utils.py](./nmt_utils.py) to see all the formatting. Count and figure out how the formats work, you will need this knowledge later. !--> "
      ]
    },
    {
      "cell_type": "markdown",
      "metadata": {
        "id": "41xXHc9axr64",
        "colab_type": "text"
      },
      "source": [
        "### 1.1 - Dataset\n",
        "\n",
        "We will train the model on a dataset of 10000 human readable dates and their equivalent, standardized, machine readable dates. Let's run the following cells to load the dataset and print some examples. "
      ]
    },
    {
      "cell_type": "code",
      "metadata": {
        "id": "osLNixrHxr64",
        "colab_type": "code",
        "outputId": "2f6abe84-de6a-477d-9042-85aa4d74be19",
        "colab": {
          "base_uri": "https://localhost:8080/",
          "height": 34
        }
      },
      "source": [
        "m = 10000\n",
        "dataset, human_vocab, machine_vocab, inv_machine_vocab = load_dataset(m)"
      ],
      "execution_count": 7,
      "outputs": [
        {
          "output_type": "stream",
          "text": [
            "100%|██████████| 10000/10000 [00:00<00:00, 17437.27it/s]\n"
          ],
          "name": "stderr"
        }
      ]
    },
    {
      "cell_type": "code",
      "metadata": {
        "id": "qdRotwPWxr66",
        "colab_type": "code",
        "outputId": "072f3845-26a4-4933-d891-af5492dcf1de",
        "colab": {
          "base_uri": "https://localhost:8080/",
          "height": 187
        }
      },
      "source": [
        "dataset[:10]"
      ],
      "execution_count": 8,
      "outputs": [
        {
          "output_type": "execute_result",
          "data": {
            "text/plain": [
              "[('9 may 1998', '1998-05-09'),\n",
              " ('10.09.70', '1970-09-10'),\n",
              " ('4/28/90', '1990-04-28'),\n",
              " ('thursday january 26 1995', '1995-01-26'),\n",
              " ('monday march 7 1983', '1983-03-07'),\n",
              " ('sunday may 22 1988', '1988-05-22'),\n",
              " ('tuesday july 8 2008', '2008-07-08'),\n",
              " ('08 sep 1999', '1999-09-08'),\n",
              " ('1 jan 1981', '1981-01-01'),\n",
              " ('monday may 22 1995', '1995-05-22')]"
            ]
          },
          "metadata": {
            "tags": []
          },
          "execution_count": 8
        }
      ]
    },
    {
      "cell_type": "code",
      "metadata": {
        "id": "axAMAX3uxr67",
        "colab_type": "code",
        "outputId": "4fccce1f-90ee-4f2b-b6ca-e25dd6542ed3",
        "colab": {
          "base_uri": "https://localhost:8080/",
          "height": 68
        }
      },
      "source": [
        "print(human_vocab['a'])\n",
        "print(machine_vocab['1'])\n",
        "print(inv_machine_vocab[1])"
      ],
      "execution_count": 9,
      "outputs": [
        {
          "output_type": "stream",
          "text": [
            "13\n",
            "2\n",
            "0\n"
          ],
          "name": "stdout"
        }
      ]
    },
    {
      "cell_type": "code",
      "metadata": {
        "id": "NsMO3ts0ALam",
        "colab_type": "code",
        "outputId": "5182355e-a742-431a-8902-485ba8dc5018",
        "colab": {
          "base_uri": "https://localhost:8080/",
          "height": 646
        }
      },
      "source": [
        "human_vocab"
      ],
      "execution_count": 10,
      "outputs": [
        {
          "output_type": "execute_result",
          "data": {
            "text/plain": [
              "{' ': 0,\n",
              " '.': 1,\n",
              " '/': 2,\n",
              " '0': 3,\n",
              " '1': 4,\n",
              " '2': 5,\n",
              " '3': 6,\n",
              " '4': 7,\n",
              " '5': 8,\n",
              " '6': 9,\n",
              " '7': 10,\n",
              " '8': 11,\n",
              " '9': 12,\n",
              " '<pad>': 36,\n",
              " '<unk>': 35,\n",
              " 'a': 13,\n",
              " 'b': 14,\n",
              " 'c': 15,\n",
              " 'd': 16,\n",
              " 'e': 17,\n",
              " 'f': 18,\n",
              " 'g': 19,\n",
              " 'h': 20,\n",
              " 'i': 21,\n",
              " 'j': 22,\n",
              " 'l': 23,\n",
              " 'm': 24,\n",
              " 'n': 25,\n",
              " 'o': 26,\n",
              " 'p': 27,\n",
              " 'r': 28,\n",
              " 's': 29,\n",
              " 't': 30,\n",
              " 'u': 31,\n",
              " 'v': 32,\n",
              " 'w': 33,\n",
              " 'y': 34}"
            ]
          },
          "metadata": {
            "tags": []
          },
          "execution_count": 10
        }
      ]
    },
    {
      "cell_type": "code",
      "metadata": {
        "id": "iOtv-hzHARHM",
        "colab_type": "code",
        "outputId": "2d3ae13c-5bca-40ca-dd62-82260c3acd0b",
        "colab": {
          "base_uri": "https://localhost:8080/",
          "height": 204
        }
      },
      "source": [
        "machine_vocab"
      ],
      "execution_count": 11,
      "outputs": [
        {
          "output_type": "execute_result",
          "data": {
            "text/plain": [
              "{'-': 0,\n",
              " '0': 1,\n",
              " '1': 2,\n",
              " '2': 3,\n",
              " '3': 4,\n",
              " '4': 5,\n",
              " '5': 6,\n",
              " '6': 7,\n",
              " '7': 8,\n",
              " '8': 9,\n",
              " '9': 10}"
            ]
          },
          "metadata": {
            "tags": []
          },
          "execution_count": 11
        }
      ]
    },
    {
      "cell_type": "code",
      "metadata": {
        "id": "cFWVDc4vAUhn",
        "colab_type": "code",
        "outputId": "51beff53-b46c-4c94-b475-8a9fe40dfbcc",
        "colab": {
          "base_uri": "https://localhost:8080/",
          "height": 204
        }
      },
      "source": [
        "inv_machine_vocab"
      ],
      "execution_count": 12,
      "outputs": [
        {
          "output_type": "execute_result",
          "data": {
            "text/plain": [
              "{0: '-',\n",
              " 1: '0',\n",
              " 2: '1',\n",
              " 3: '2',\n",
              " 4: '3',\n",
              " 5: '4',\n",
              " 6: '5',\n",
              " 7: '6',\n",
              " 8: '7',\n",
              " 9: '8',\n",
              " 10: '9'}"
            ]
          },
          "metadata": {
            "tags": []
          },
          "execution_count": 12
        }
      ]
    },
    {
      "cell_type": "markdown",
      "metadata": {
        "id": "X6YywJ2axr69",
        "colab_type": "text"
      },
      "source": [
        "You've loaded:\n",
        "- `dataset`: a list of tuples of (human readable date, machine readable date)\n",
        "- `human_vocab`: a python dictionary mapping all characters used in the human readable dates to an integer-valued index \n",
        "- `machine_vocab`: a python dictionary mapping all characters used in machine readable dates to an integer-valued index. These indices are not necessarily consistent with `human_vocab`. \n",
        "- `inv_machine_vocab`: the inverse dictionary of `machine_vocab`, mapping from indices back to characters. \n",
        "\n",
        "Let's preprocess the data and map the raw text data into the index values. We will also use Tx=30 (which we assume is the maximum length of the human readable date; if we get a longer input, we would have to truncate it) and Ty=10 (since \"YYYY-MM-DD\" is 10 characters long). "
      ]
    },
    {
      "cell_type": "code",
      "metadata": {
        "id": "0i7gk_k1xr69",
        "colab_type": "code",
        "outputId": "908848a6-d145-4014-c3b1-4307fa89abf5",
        "colab": {
          "base_uri": "https://localhost:8080/",
          "height": 85
        }
      },
      "source": [
        "Tx = 30\n",
        "Ty = 10\n",
        "X, Y, Xoh, Yoh = preprocess_data(dataset, human_vocab, machine_vocab, Tx, Ty)\n",
        "\n",
        "print(\"X.shape:\", X.shape)\n",
        "print(\"Y.shape:\", Y.shape)\n",
        "print(\"Xoh.shape:\", Xoh.shape)\n",
        "print(\"Yoh.shape:\", Yoh.shape)"
      ],
      "execution_count": 13,
      "outputs": [
        {
          "output_type": "stream",
          "text": [
            "X.shape: (10000, 30)\n",
            "Y.shape: (10000, 10)\n",
            "Xoh.shape: (10000, 30, 37)\n",
            "Yoh.shape: (10000, 10, 11)\n"
          ],
          "name": "stdout"
        }
      ]
    },
    {
      "cell_type": "code",
      "metadata": {
        "id": "2iMwcL46xr6_",
        "colab_type": "code",
        "outputId": "c0d4a99b-69ac-4546-893a-fb0f92fc145c",
        "colab": {
          "base_uri": "https://localhost:8080/",
          "height": 459
        }
      },
      "source": [
        "print('dataset[0]')\n",
        "print(dataset[0])\n",
        "print('X[0]')\n",
        "print(X[0])\n",
        "print('Y[0]')\n",
        "print(Y[0])\n",
        "print('Xoh[0]')\n",
        "print(Xoh[0])\n",
        "print('Yoh[0]')\n",
        "print(Yoh[0])"
      ],
      "execution_count": 14,
      "outputs": [
        {
          "output_type": "stream",
          "text": [
            "dataset[0]\n",
            "('9 may 1998', '1998-05-09')\n",
            "X[0]\n",
            "[12  0 24 13 34  0  4 12 12 11 36 36 36 36 36 36 36 36 36 36 36 36 36 36\n",
            " 36 36 36 36 36 36]\n",
            "Y[0]\n",
            "[ 2 10 10  9  0  1  6  0  1 10]\n",
            "Xoh[0]\n",
            "[[0. 0. 0. ... 0. 0. 0.]\n",
            " [1. 0. 0. ... 0. 0. 0.]\n",
            " [0. 0. 0. ... 0. 0. 0.]\n",
            " ...\n",
            " [0. 0. 0. ... 0. 0. 1.]\n",
            " [0. 0. 0. ... 0. 0. 1.]\n",
            " [0. 0. 0. ... 0. 0. 1.]]\n",
            "Yoh[0]\n",
            "[[0. 0. 1. 0. 0. 0. 0. 0. 0. 0. 0.]\n",
            " [0. 0. 0. 0. 0. 0. 0. 0. 0. 0. 1.]\n",
            " [0. 0. 0. 0. 0. 0. 0. 0. 0. 0. 1.]\n",
            " [0. 0. 0. 0. 0. 0. 0. 0. 0. 1. 0.]\n",
            " [1. 0. 0. 0. 0. 0. 0. 0. 0. 0. 0.]\n",
            " [0. 1. 0. 0. 0. 0. 0. 0. 0. 0. 0.]\n",
            " [0. 0. 0. 0. 0. 0. 1. 0. 0. 0. 0.]\n",
            " [1. 0. 0. 0. 0. 0. 0. 0. 0. 0. 0.]\n",
            " [0. 1. 0. 0. 0. 0. 0. 0. 0. 0. 0.]\n",
            " [0. 0. 0. 0. 0. 0. 0. 0. 0. 0. 1.]]\n"
          ],
          "name": "stdout"
        }
      ]
    },
    {
      "cell_type": "markdown",
      "metadata": {
        "id": "k1u8J6vGxr7A",
        "colab_type": "text"
      },
      "source": [
        "You now have:\n",
        "- `X`: a processed version of the human readable dates in the training set, where each character is replaced by an index mapped to the character via `human_vocab`. Each date is further padded to $T_x$ values with a special character (< pad >). `X.shape = (m, Tx)`\n",
        "- `Y`: a processed version of the machine readable dates in the training set, where each character is replaced by the index it is mapped to in `machine_vocab`. You should have `Y.shape = (m, Ty)`. \n",
        "- `Xoh`: one-hot version of `X`, the \"1\" entry's index is mapped to the character thanks to `human_vocab`. `Xoh.shape = (m, Tx, len(human_vocab))`\n",
        "- `Yoh`: one-hot version of `Y`, the \"1\" entry's index is mapped to the character thanks to `machine_vocab`. `Yoh.shape = (m, Ty, len(machine_vocab))`. Here, `len(machine_vocab) = 11` since there are 11 characters ('-' as well as 0-9). \n"
      ]
    },
    {
      "cell_type": "markdown",
      "metadata": {
        "id": "LJqnd8Pcxr7B",
        "colab_type": "text"
      },
      "source": [
        "Lets also look at some examples of preprocessed training examples. Feel free to play with `index` in the cell below to navigate the dataset and see how source/target dates are preprocessed. "
      ]
    },
    {
      "cell_type": "code",
      "metadata": {
        "id": "iZ1cWx9Lxr7C",
        "colab_type": "code",
        "outputId": "b371f1e7-0757-4599-fb68-0f4329b3704f",
        "colab": {
          "base_uri": "https://localhost:8080/",
          "height": 493
        }
      },
      "source": [
        "index = 0\n",
        "print(\"Source date:\", dataset[index][0])\n",
        "print(\"Target date:\", dataset[index][1])\n",
        "print()\n",
        "print(\"Source after preprocessing (indices):\\n\", X[index])\n",
        "print(\"Target after preprocessing (indices):\\n\", Y[index])\n",
        "print()\n",
        "print(\"Source after preprocessing (one-hot):\\n\", Xoh[index])\n",
        "print(\"Target after preprocessing (one-hot):\\n\", Yoh[index])"
      ],
      "execution_count": 15,
      "outputs": [
        {
          "output_type": "stream",
          "text": [
            "Source date: 9 may 1998\n",
            "Target date: 1998-05-09\n",
            "\n",
            "Source after preprocessing (indices):\n",
            " [12  0 24 13 34  0  4 12 12 11 36 36 36 36 36 36 36 36 36 36 36 36 36 36\n",
            " 36 36 36 36 36 36]\n",
            "Target after preprocessing (indices):\n",
            " [ 2 10 10  9  0  1  6  0  1 10]\n",
            "\n",
            "Source after preprocessing (one-hot):\n",
            " [[0. 0. 0. ... 0. 0. 0.]\n",
            " [1. 0. 0. ... 0. 0. 0.]\n",
            " [0. 0. 0. ... 0. 0. 0.]\n",
            " ...\n",
            " [0. 0. 0. ... 0. 0. 1.]\n",
            " [0. 0. 0. ... 0. 0. 1.]\n",
            " [0. 0. 0. ... 0. 0. 1.]]\n",
            "Target after preprocessing (one-hot):\n",
            " [[0. 0. 1. 0. 0. 0. 0. 0. 0. 0. 0.]\n",
            " [0. 0. 0. 0. 0. 0. 0. 0. 0. 0. 1.]\n",
            " [0. 0. 0. 0. 0. 0. 0. 0. 0. 0. 1.]\n",
            " [0. 0. 0. 0. 0. 0. 0. 0. 0. 1. 0.]\n",
            " [1. 0. 0. 0. 0. 0. 0. 0. 0. 0. 0.]\n",
            " [0. 1. 0. 0. 0. 0. 0. 0. 0. 0. 0.]\n",
            " [0. 0. 0. 0. 0. 0. 1. 0. 0. 0. 0.]\n",
            " [1. 0. 0. 0. 0. 0. 0. 0. 0. 0. 0.]\n",
            " [0. 1. 0. 0. 0. 0. 0. 0. 0. 0. 0.]\n",
            " [0. 0. 0. 0. 0. 0. 0. 0. 0. 0. 1.]]\n"
          ],
          "name": "stdout"
        }
      ]
    },
    {
      "cell_type": "markdown",
      "metadata": {
        "id": "Fx2UxK5Txr7D",
        "colab_type": "text"
      },
      "source": [
        "## 2 - Neural machine translation with attention\n",
        "\n",
        "If you had to translate a book's paragraph from French to English, you would not read the whole paragraph, then close the book and translate. Even during the translation process, you would read/re-read and focus on the parts of the French paragraph corresponding to the parts of the English you are writing down. \n",
        "\n",
        "The attention mechanism tells a Neural Machine Translation model where it should pay attention to at any step. \n",
        "\n",
        "\n",
        "### 2.1 - Attention mechanism\n",
        "\n",
        "In this part, you will implement the attention mechanism presented in the lecture videos. Here is a figure to remind you how the model works. The diagram on the left shows the attention model. The diagram on the right shows what one \"Attention\" step does to calculate the attention variables $\\alpha^{\\langle t, t' \\rangle}$, which are used to compute the context variable $context^{\\langle t \\rangle}$ for each timestep in the output ($t=1, \\ldots, T_y$). \n",
        "\n",
        "<table>\n",
        "<td> \n",
        "<img src=\"https://docs.google.com/uc?export=download&id=1dlXyTrQy0xQcv96PHID7Tl06pRsCSxv8\" style=\"width:650px;height:400px;\">\n",
        "</td> \n",
        "<td> \n",
        "<img src=\"https://docs.google.com/uc?export=download&id=1QthpaCYQWSI0S7rPSufPlV2-KWw_rnsG\" style=\"width:650px;height:400px;\">\n",
        "</td> \n",
        "</table>\n",
        "<caption><center> **Figure 1**: Neural machine translation with attention</center></caption>\n"
      ]
    },
    {
      "cell_type": "markdown",
      "metadata": {
        "id": "oSqjTUy3xr7E",
        "colab_type": "text"
      },
      "source": [
        "\n",
        "Here are some properties of the model that you may notice: \n",
        "\n",
        "- There are two separate LSTMs in this model (see diagram on the left). Because the one at the bottom of the picture is a Bi-directional LSTM and comes *before* the attention mechanism, we will call it *pre-attention* Bi-LSTM. The LSTM at the top of the diagram comes *after* the attention mechanism, so we will call it the *post-attention* LSTM. The pre-attention Bi-LSTM goes through $T_x$ time steps; the post-attention LSTM goes through $T_y$ time steps. \n",
        "\n",
        "- The post-attention LSTM passes $s^{\\langle t \\rangle}, c^{\\langle t \\rangle}$ from one time step to the next. In the lecture videos, we were using only a basic RNN for the post-activation sequence model, so the state captured by the RNN output were the activations $s^{\\langle t\\rangle}$. But since we are using an LSTM here, the LSTM has both the output activation $s^{\\langle t\\rangle}$ and the hidden cell state $c^{\\langle t\\rangle}$. However, unlike previous text generation examples (such as Dinosaurus in week 1), in this model the post-activation LSTM at time $t$ does not take the specific generated $y^{\\langle t-1 \\rangle}$ as input; it only takes $s^{\\langle t\\rangle}$ and $c^{\\langle t\\rangle}$ as input. We have designed the model this way, because (unlike language generation where adjacent characters are highly correlated) there isn't as strong a dependency between the previous character and the next character in a YYYY-MM-DD date. \n",
        "\n",
        "- We use $a^{\\langle t \\rangle} = [\\overrightarrow{a}^{\\langle t \\rangle}; \\overleftarrow{a}^{\\langle t \\rangle}]$ to represent the concatenation of the activations of both the forward-direction and backward-directions of the pre-attention Bi-LSTM. \n",
        "\n",
        "- The diagram on the right uses a `RepeatVector` node to copy $s^{\\langle t-1 \\rangle}$'s value $T_x$ times, and then `Concatenation` to concatenate $s^{\\langle t-1 \\rangle}$ and $a^{\\langle t \\rangle}$ to compute $e^{\\langle t, t'\\rangle}$, which is then passed through a softmax to compute $\\alpha^{\\langle t, t' \\rangle}$. We'll explain how to use `RepeatVector` and `Concatenation` in Keras below. \n",
        "\n",
        "Lets implement this model. You will start by implementing two functions: `one_step_attention()` and `model()`.\n",
        "\n",
        "**1) `one_step_attention()`**: At step $t$, given all the hidden states of the Bi-LSTM ($[a^{<1>},a^{<2>}, ..., a^{<T_x>}]$) and the previous hidden state of the second LSTM ($s^{<t-1>}$), `one_step_attention()` will compute the attention weights ($[\\alpha^{<t,1>},\\alpha^{<t,2>}, ..., \\alpha^{<t,T_x>}]$) and output the context vector (see Figure  1 (right) for details):\n",
        "$$context^{<t>} = \\sum_{t' = 1}^{T_x} \\alpha^{<t,t'>}a^{<t'>}\\tag{1}$$ \n",
        "\n",
        "Note that we are denoting the attention in this notebook $context^{\\langle t \\rangle}$. In the lecture videos, the context was denoted $c^{\\langle t \\rangle}$, but here we are calling it $context^{\\langle t \\rangle}$ to avoid confusion with the (post-attention) LSTM's internal memory cell variable, which is sometimes also denoted $c^{\\langle t \\rangle}$. \n",
        "  \n",
        "**2) `model()`**: Implements the entire model. It first runs the input through a Bi-LSTM to get back $[a^{<1>},a^{<2>}, ..., a^{<T_x>}]$. Then, it calls `one_step_attention()` $T_y$ times (`for` loop). At each iteration of this loop, it gives the computed context vector $c^{<t>}$ to the second LSTM, and runs the output of the LSTM through a dense layer with softmax activation to generate a prediction $\\hat{y}^{<t>}$. \n",
        "\n",
        "\n",
        "\n",
        "**Exercise**: Implement `one_step_attention()`. The function `model()` will call the layers in `one_step_attention()` $T_y$ using a for-loop, and it is important that all $T_y$ copies have the same weights. I.e., it should not re-initiaiize the weights every time. In other words, all $T_y$ steps should have shared weights. Here's how you can implement layers with shareable weights in Keras:\n",
        "1. Define the layer objects (as global variables for examples).\n",
        "2. Call these objects when propagating the input.\n",
        "\n",
        "We have defined the layers you need as global variables. Please run the following cells to create them. Please check the Keras documentation to make sure you understand what these layers are: [RepeatVector()](https://keras.io/layers/core/#repeatvector), [Concatenate()](https://keras.io/layers/merge/#concatenate), [Dense()](https://keras.io/layers/core/#dense), [Activation()](https://keras.io/layers/core/#activation), [Dot()](https://keras.io/layers/merge/#dot)."
      ]
    },
    {
      "cell_type": "code",
      "metadata": {
        "id": "3YOrk76uxr7E",
        "colab_type": "code",
        "outputId": "b1ff5480-2eca-4337-dd07-a57f6e9ab19c",
        "colab": {
          "base_uri": "https://localhost:8080/",
          "height": 71
        }
      },
      "source": [
        "# Defined shared layers as global variables\n",
        "repeator = RepeatVector(Tx)\n",
        "concatenator = Concatenate(axis=-1)\n",
        "densor1 = Dense(10, activation = \"tanh\")\n",
        "densor2 = Dense(1, activation = \"relu\")\n",
        "activator = Activation(softmax, name='attention_weights') # We are using a custom softmax(axis = 1) loaded in this notebook\n",
        "dotor = Dot(axes = 1)"
      ],
      "execution_count": 16,
      "outputs": [
        {
          "output_type": "stream",
          "text": [
            "WARNING:tensorflow:From /usr/local/lib/python3.6/dist-packages/keras/backend/tensorflow_backend.py:66: The name tf.get_default_graph is deprecated. Please use tf.compat.v1.get_default_graph instead.\n",
            "\n"
          ],
          "name": "stdout"
        }
      ]
    },
    {
      "cell_type": "markdown",
      "metadata": {
        "id": "IApTxIDSxr7G",
        "colab_type": "text"
      },
      "source": [
        "Now you can use these layers to implement `one_step_attention()`. In order to propagate a Keras tensor object X through one of these layers, use `layer(X)` (or `layer([X,Y])` if it requires multiple inputs.), e.g. `densor(X)` will propagate X through the `Dense(1)` layer defined above."
      ]
    },
    {
      "cell_type": "code",
      "metadata": {
        "id": "OPJcMPj6xr7G",
        "colab_type": "code",
        "colab": {}
      },
      "source": [
        "# GRADED FUNCTION: one_step_attention\n",
        "\n",
        "def one_step_attention(a, s_prev):\n",
        "    \"\"\"\n",
        "    Performs one step of attention: Outputs a context vector computed as a dot product of the attention weights\n",
        "    \"alphas\" and the hidden states \"a\" of the Bi-LSTM.\n",
        "    \n",
        "    Arguments:\n",
        "    a -- hidden state output of the Bi-LSTM, numpy-array of shape (m, Tx, 2*n_a)\n",
        "    s_prev -- previous hidden state of the (post-attention) LSTM, numpy-array of shape (m, n_s)\n",
        "    \n",
        "    Returns:\n",
        "    context -- context vector, input of the next (post-attetion) LSTM cell\n",
        "    \"\"\"\n",
        "    \n",
        "    ### START CODE HERE ###\n",
        "    # Use repeator to repeat s_prev to be of shape (m, Tx, n_s) so that you can concatenate it with all hidden states \"a\" (≈ 1 line)\n",
        "    s_prev = repeator(s_prev)\n",
        "    # Use concatenator to concatenate a and s_prev on the last axis (≈ 1 line)\n",
        "    concat = concatenator([a, s_prev])\n",
        "    # Use densor1 to propagate concat through a small fully-connected neural network to compute the \"intermediate energies\" variable e. (≈1 lines)\n",
        "    e = densor1(concat)\n",
        "    # Use densor2 to propagate e through a small fully-connected neural network to compute the \"energies\" variable energies. (≈1 lines)\n",
        "    energies = densor2(e)\n",
        "    # Use \"activator\" on \"energies\" to compute the attention weights \"alphas\" (≈ 1 line)\n",
        "    alphas = activator(energies)\n",
        "    # Use dotor together with \"alphas\" and \"a\" to compute the context vector to be given to the next (post-attention) LSTM-cell (≈ 1 line)\n",
        "    context = dotor([alphas, a])\n",
        "    ### END CODE HERE ###\n",
        "    \n",
        "    return context"
      ],
      "execution_count": 0,
      "outputs": []
    },
    {
      "cell_type": "markdown",
      "metadata": {
        "id": "DC2vV2J4xr7I",
        "colab_type": "text"
      },
      "source": [
        "<table>\n",
        "<td> \n",
        "<img src=\"https://docs.google.com/uc?export=download&id=1dlXyTrQy0xQcv96PHID7Tl06pRsCSxv8\" style=\"width:650px;height:400px;\">\n",
        "</td> \n",
        "<td> \n",
        "<img src=\"https://docs.google.com/uc?export=download&id=1QthpaCYQWSI0S7rPSufPlV2-KWw_rnsG\" style=\"width:650px;height:400px;\">\n",
        "</td> \n",
        "</table>\n",
        "<caption><center> **Figure 1**: Neural machine translation with attention</center></caption>\n"
      ]
    },
    {
      "cell_type": "markdown",
      "metadata": {
        "id": "xwWmuRuzxr7I",
        "colab_type": "text"
      },
      "source": [
        "You will be able to check the expected output of `one_step_attention()` after you've coded the `model()` function."
      ]
    },
    {
      "cell_type": "markdown",
      "metadata": {
        "id": "nuX-7G57xr7J",
        "colab_type": "text"
      },
      "source": [
        "**Exercise**: Implement `model()` as explained in Figure 1 and the text above. Again, we have defined global layers that will share weights to be used in `model()`."
      ]
    },
    {
      "cell_type": "code",
      "metadata": {
        "id": "ebFcKbD7xr7J",
        "colab_type": "code",
        "colab": {}
      },
      "source": [
        "n_a = 32\n",
        "n_s = 64\n",
        "post_activation_LSTM_cell = LSTM(n_s, return_state = True)\n",
        "output_layer = Dense(len(machine_vocab), activation=softmax)"
      ],
      "execution_count": 0,
      "outputs": []
    },
    {
      "cell_type": "markdown",
      "metadata": {
        "id": "1BDrLACNxr7L",
        "colab_type": "text"
      },
      "source": [
        "Now you can use these layers $T_y$ times in a `for` loop to generate the outputs, and their parameters will not be reinitialized. You will have to carry out the following steps: \n",
        "\n",
        "1. Propagate the input into a [Bidirectional](https://keras.io/layers/wrappers/#bidirectional) [LSTM](https://keras.io/layers/recurrent/#lstm)\n",
        "2. Iterate for $t = 0, \\dots, T_y-1$: \n",
        "    1. Call `one_step_attention()` on $[\\alpha^{<t,1>},\\alpha^{<t,2>}, ..., \\alpha^{<t,T_x>}]$ and $s^{<t-1>}$ to get the context vector $context^{<t>}$.\n",
        "    2. Give $context^{<t>}$ to the post-attention LSTM cell. Remember pass in the previous hidden-state $s^{\\langle t-1\\rangle}$ and cell-states $c^{\\langle t-1\\rangle}$ of this LSTM using `initial_state= [previous hidden state, previous cell state]`. Get back the new hidden state $s^{<t>}$ and the new cell state $c^{<t>}$.\n",
        "    3. Apply a softmax layer to $s^{<t>}$, get the output. \n",
        "    4. Save the output by adding it to the list of outputs.\n",
        "\n",
        "3. Create your Keras model instance, it should have three inputs (\"inputs\", $s^{<0>}$ and $c^{<0>}$) and output the list of \"outputs\"."
      ]
    },
    {
      "cell_type": "code",
      "metadata": {
        "id": "_C4Yndoyxr7L",
        "colab_type": "code",
        "colab": {}
      },
      "source": [
        "# GRADED FUNCTION: model\n",
        "\n",
        "def model(Tx, Ty, n_a, n_s, human_vocab_size, machine_vocab_size):\n",
        "    \"\"\"\n",
        "    Arguments:\n",
        "    Tx -- length of the input sequence\n",
        "    Ty -- length of the output sequence\n",
        "    n_a -- hidden state size of the Bi-LSTM\n",
        "    n_s -- hidden state size of the post-attention LSTM\n",
        "    human_vocab_size -- size of the python dictionary \"human_vocab\"\n",
        "    machine_vocab_size -- size of the python dictionary \"machine_vocab\"\n",
        "\n",
        "    Returns:\n",
        "    model -- Keras model instance\n",
        "    \"\"\"\n",
        "    \n",
        "    # Define the inputs of your model with a shape (Tx,)\n",
        "    # Define s0 and c0, initial hidden state for the decoder LSTM of shape (n_s,)\n",
        "    X = Input(shape=(Tx, human_vocab_size))\n",
        "    s0 = Input(shape=(n_s,), name='s0')\n",
        "    c0 = Input(shape=(n_s,), name='c0')\n",
        "    s = s0\n",
        "    c = c0\n",
        "    \n",
        "    # Initialize empty list of outputs\n",
        "    outputs = []\n",
        "    \n",
        "    ### START CODE HERE ###\n",
        "    \n",
        "    # Step 1: Define your pre-attention Bi-LSTM. Remember to use return_sequences=True. (≈ 1 line)\n",
        "    a = Bidirectional(LSTM(units = n_a, return_sequences=True))(X)\n",
        "    \n",
        "    # Step 2: Iterate for Ty steps\n",
        "    for t in range(Ty):\n",
        "    \n",
        "        # Step 2.A: Perform one step of the attention mechanism to get back the context vector at step t (≈ 1 line)\n",
        "        context = one_step_attention(a, s)\n",
        "        \n",
        "        # Step 2.B: Apply the post-attention LSTM cell to the \"context\" vector.\n",
        "        # Don't forget to pass: initial_state = [hidden state, cell state] (≈ 1 line)\n",
        "        s, _, c = post_activation_LSTM_cell(context, initial_state = [s, c])\n",
        "        \n",
        "        # Step 2.C: Apply Dense layer to the hidden state output of the post-attention LSTM (≈ 1 line)\n",
        "        out = output_layer(s)\n",
        "        \n",
        "        # Step 2.D: Append \"out\" to the \"outputs\" list (≈ 1 line)\n",
        "        outputs.append(out)\n",
        "    \n",
        "    # Step 3: Create model instance taking three inputs and returning the list of outputs. (≈ 1 line)\n",
        "    model = Model(inputs = [X, s0, c0], outputs = outputs)\n",
        "    \n",
        "    ### END CODE HERE ###\n",
        "    \n",
        "    return model"
      ],
      "execution_count": 0,
      "outputs": []
    },
    {
      "cell_type": "markdown",
      "metadata": {
        "id": "wz7V2GXFxr7N",
        "colab_type": "text"
      },
      "source": [
        "<table>\n",
        "<td> \n",
        "<img src=\"https://docs.google.com/uc?export=download&id=1dlXyTrQy0xQcv96PHID7Tl06pRsCSxv8\" style=\"width:650px;height:400px;\">\n",
        "</td> \n",
        "<td> \n",
        "<img src=\"https://docs.google.com/uc?export=download&id=1QthpaCYQWSI0S7rPSufPlV2-KWw_rnsG\" style=\"width:650px;height:400px;\">\n",
        "</td> \n",
        "</table>\n",
        "<caption><center> **Figure 1**: Neural machine translation with attention</center></caption>\n"
      ]
    },
    {
      "cell_type": "markdown",
      "metadata": {
        "id": "qq_-NBrUxr7N",
        "colab_type": "text"
      },
      "source": [
        "Run the following cell to create your model."
      ]
    },
    {
      "cell_type": "code",
      "metadata": {
        "id": "FBK-LBUFxr7O",
        "colab_type": "code",
        "outputId": "79e38d0a-0f6a-49cb-c4c1-38f054a7c160",
        "colab": {
          "base_uri": "https://localhost:8080/",
          "height": 105
        }
      },
      "source": [
        "model = model(Tx, Ty, n_a, n_s, len(human_vocab), len(machine_vocab))"
      ],
      "execution_count": 20,
      "outputs": [
        {
          "output_type": "stream",
          "text": [
            "WARNING:tensorflow:From /usr/local/lib/python3.6/dist-packages/keras/backend/tensorflow_backend.py:541: The name tf.placeholder is deprecated. Please use tf.compat.v1.placeholder instead.\n",
            "\n",
            "WARNING:tensorflow:From /usr/local/lib/python3.6/dist-packages/keras/backend/tensorflow_backend.py:4432: The name tf.random_uniform is deprecated. Please use tf.random.uniform instead.\n",
            "\n"
          ],
          "name": "stdout"
        }
      ]
    },
    {
      "cell_type": "markdown",
      "metadata": {
        "id": "dG13yO8txr7P",
        "colab_type": "text"
      },
      "source": [
        "Let's get a summary of the model to check if it matches the expected output."
      ]
    },
    {
      "cell_type": "code",
      "metadata": {
        "scrolled": false,
        "id": "kntI4jz3xr7Q",
        "colab_type": "code",
        "outputId": "0be3d8c6-8cae-45d7-8e3a-bb268252399a",
        "colab": {
          "base_uri": "https://localhost:8080/",
          "height": 1000
        }
      },
      "source": [
        "model.summary()"
      ],
      "execution_count": 21,
      "outputs": [
        {
          "output_type": "stream",
          "text": [
            "Model: \"model_1\"\n",
            "__________________________________________________________________________________________________\n",
            "Layer (type)                    Output Shape         Param #     Connected to                     \n",
            "==================================================================================================\n",
            "input_1 (InputLayer)            (None, 30, 37)       0                                            \n",
            "__________________________________________________________________________________________________\n",
            "s0 (InputLayer)                 (None, 64)           0                                            \n",
            "__________________________________________________________________________________________________\n",
            "bidirectional_1 (Bidirectional) (None, 30, 64)       17920       input_1[0][0]                    \n",
            "__________________________________________________________________________________________________\n",
            "repeat_vector_1 (RepeatVector)  (None, 30, 64)       0           s0[0][0]                         \n",
            "                                                                 lstm_1[0][0]                     \n",
            "                                                                 lstm_1[1][0]                     \n",
            "                                                                 lstm_1[2][0]                     \n",
            "                                                                 lstm_1[3][0]                     \n",
            "                                                                 lstm_1[4][0]                     \n",
            "                                                                 lstm_1[5][0]                     \n",
            "                                                                 lstm_1[6][0]                     \n",
            "                                                                 lstm_1[7][0]                     \n",
            "                                                                 lstm_1[8][0]                     \n",
            "__________________________________________________________________________________________________\n",
            "concatenate_1 (Concatenate)     (None, 30, 128)      0           bidirectional_1[0][0]            \n",
            "                                                                 repeat_vector_1[0][0]            \n",
            "                                                                 bidirectional_1[0][0]            \n",
            "                                                                 repeat_vector_1[1][0]            \n",
            "                                                                 bidirectional_1[0][0]            \n",
            "                                                                 repeat_vector_1[2][0]            \n",
            "                                                                 bidirectional_1[0][0]            \n",
            "                                                                 repeat_vector_1[3][0]            \n",
            "                                                                 bidirectional_1[0][0]            \n",
            "                                                                 repeat_vector_1[4][0]            \n",
            "                                                                 bidirectional_1[0][0]            \n",
            "                                                                 repeat_vector_1[5][0]            \n",
            "                                                                 bidirectional_1[0][0]            \n",
            "                                                                 repeat_vector_1[6][0]            \n",
            "                                                                 bidirectional_1[0][0]            \n",
            "                                                                 repeat_vector_1[7][0]            \n",
            "                                                                 bidirectional_1[0][0]            \n",
            "                                                                 repeat_vector_1[8][0]            \n",
            "                                                                 bidirectional_1[0][0]            \n",
            "                                                                 repeat_vector_1[9][0]            \n",
            "__________________________________________________________________________________________________\n",
            "dense_1 (Dense)                 (None, 30, 10)       1290        concatenate_1[0][0]              \n",
            "                                                                 concatenate_1[1][0]              \n",
            "                                                                 concatenate_1[2][0]              \n",
            "                                                                 concatenate_1[3][0]              \n",
            "                                                                 concatenate_1[4][0]              \n",
            "                                                                 concatenate_1[5][0]              \n",
            "                                                                 concatenate_1[6][0]              \n",
            "                                                                 concatenate_1[7][0]              \n",
            "                                                                 concatenate_1[8][0]              \n",
            "                                                                 concatenate_1[9][0]              \n",
            "__________________________________________________________________________________________________\n",
            "dense_2 (Dense)                 (None, 30, 1)        11          dense_1[0][0]                    \n",
            "                                                                 dense_1[1][0]                    \n",
            "                                                                 dense_1[2][0]                    \n",
            "                                                                 dense_1[3][0]                    \n",
            "                                                                 dense_1[4][0]                    \n",
            "                                                                 dense_1[5][0]                    \n",
            "                                                                 dense_1[6][0]                    \n",
            "                                                                 dense_1[7][0]                    \n",
            "                                                                 dense_1[8][0]                    \n",
            "                                                                 dense_1[9][0]                    \n",
            "__________________________________________________________________________________________________\n",
            "attention_weights (Activation)  (None, 30, 1)        0           dense_2[0][0]                    \n",
            "                                                                 dense_2[1][0]                    \n",
            "                                                                 dense_2[2][0]                    \n",
            "                                                                 dense_2[3][0]                    \n",
            "                                                                 dense_2[4][0]                    \n",
            "                                                                 dense_2[5][0]                    \n",
            "                                                                 dense_2[6][0]                    \n",
            "                                                                 dense_2[7][0]                    \n",
            "                                                                 dense_2[8][0]                    \n",
            "                                                                 dense_2[9][0]                    \n",
            "__________________________________________________________________________________________________\n",
            "dot_1 (Dot)                     (None, 1, 64)        0           attention_weights[0][0]          \n",
            "                                                                 bidirectional_1[0][0]            \n",
            "                                                                 attention_weights[1][0]          \n",
            "                                                                 bidirectional_1[0][0]            \n",
            "                                                                 attention_weights[2][0]          \n",
            "                                                                 bidirectional_1[0][0]            \n",
            "                                                                 attention_weights[3][0]          \n",
            "                                                                 bidirectional_1[0][0]            \n",
            "                                                                 attention_weights[4][0]          \n",
            "                                                                 bidirectional_1[0][0]            \n",
            "                                                                 attention_weights[5][0]          \n",
            "                                                                 bidirectional_1[0][0]            \n",
            "                                                                 attention_weights[6][0]          \n",
            "                                                                 bidirectional_1[0][0]            \n",
            "                                                                 attention_weights[7][0]          \n",
            "                                                                 bidirectional_1[0][0]            \n",
            "                                                                 attention_weights[8][0]          \n",
            "                                                                 bidirectional_1[0][0]            \n",
            "                                                                 attention_weights[9][0]          \n",
            "                                                                 bidirectional_1[0][0]            \n",
            "__________________________________________________________________________________________________\n",
            "c0 (InputLayer)                 (None, 64)           0                                            \n",
            "__________________________________________________________________________________________________\n",
            "lstm_1 (LSTM)                   [(None, 64), (None,  33024       dot_1[0][0]                      \n",
            "                                                                 s0[0][0]                         \n",
            "                                                                 c0[0][0]                         \n",
            "                                                                 dot_1[1][0]                      \n",
            "                                                                 lstm_1[0][0]                     \n",
            "                                                                 lstm_1[0][2]                     \n",
            "                                                                 dot_1[2][0]                      \n",
            "                                                                 lstm_1[1][0]                     \n",
            "                                                                 lstm_1[1][2]                     \n",
            "                                                                 dot_1[3][0]                      \n",
            "                                                                 lstm_1[2][0]                     \n",
            "                                                                 lstm_1[2][2]                     \n",
            "                                                                 dot_1[4][0]                      \n",
            "                                                                 lstm_1[3][0]                     \n",
            "                                                                 lstm_1[3][2]                     \n",
            "                                                                 dot_1[5][0]                      \n",
            "                                                                 lstm_1[4][0]                     \n",
            "                                                                 lstm_1[4][2]                     \n",
            "                                                                 dot_1[6][0]                      \n",
            "                                                                 lstm_1[5][0]                     \n",
            "                                                                 lstm_1[5][2]                     \n",
            "                                                                 dot_1[7][0]                      \n",
            "                                                                 lstm_1[6][0]                     \n",
            "                                                                 lstm_1[6][2]                     \n",
            "                                                                 dot_1[8][0]                      \n",
            "                                                                 lstm_1[7][0]                     \n",
            "                                                                 lstm_1[7][2]                     \n",
            "                                                                 dot_1[9][0]                      \n",
            "                                                                 lstm_1[8][0]                     \n",
            "                                                                 lstm_1[8][2]                     \n",
            "__________________________________________________________________________________________________\n",
            "dense_3 (Dense)                 (None, 11)           715         lstm_1[0][0]                     \n",
            "                                                                 lstm_1[1][0]                     \n",
            "                                                                 lstm_1[2][0]                     \n",
            "                                                                 lstm_1[3][0]                     \n",
            "                                                                 lstm_1[4][0]                     \n",
            "                                                                 lstm_1[5][0]                     \n",
            "                                                                 lstm_1[6][0]                     \n",
            "                                                                 lstm_1[7][0]                     \n",
            "                                                                 lstm_1[8][0]                     \n",
            "                                                                 lstm_1[9][0]                     \n",
            "==================================================================================================\n",
            "Total params: 52,960\n",
            "Trainable params: 52,960\n",
            "Non-trainable params: 0\n",
            "__________________________________________________________________________________________________\n"
          ],
          "name": "stdout"
        }
      ]
    },
    {
      "cell_type": "markdown",
      "metadata": {
        "id": "_M-G5d6Zxr7R",
        "colab_type": "text"
      },
      "source": [
        "**Expected Output**:\n",
        "\n",
        "Here is the summary you should see\n",
        "<table>\n",
        "    <tr>\n",
        "        <td>\n",
        "            **Total params:**\n",
        "        </td>\n",
        "        <td>\n",
        "         52,960\n",
        "        </td>\n",
        "    </tr>\n",
        "        <tr>\n",
        "        <td>\n",
        "            **Trainable params:**\n",
        "        </td>\n",
        "        <td>\n",
        "         52,960\n",
        "        </td>\n",
        "    </tr>\n",
        "            <tr>\n",
        "        <td>\n",
        "            **Non-trainable params:**\n",
        "        </td>\n",
        "        <td>\n",
        "         0\n",
        "        </td>\n",
        "    </tr>\n",
        "                    <tr>\n",
        "        <td>\n",
        "            **bidirectional_1's output shape **\n",
        "        </td>\n",
        "        <td>\n",
        "         (None, 30, 64)  \n",
        "        </td>\n",
        "    </tr>\n",
        "    <tr>\n",
        "        <td>\n",
        "            **repeat_vector_1's output shape **\n",
        "        </td>\n",
        "        <td>\n",
        "         (None, 30, 64) \n",
        "        </td>\n",
        "    </tr>\n",
        "                <tr>\n",
        "        <td>\n",
        "            **concatenate_1's output shape **\n",
        "        </td>\n",
        "        <td>\n",
        "         (None, 30, 128) \n",
        "        </td>\n",
        "    </tr>\n",
        "            <tr>\n",
        "        <td>\n",
        "            **attention_weights's output shape **\n",
        "        </td>\n",
        "        <td>\n",
        "         (None, 30, 1)  \n",
        "        </td>\n",
        "    </tr>\n",
        "        <tr>\n",
        "        <td>\n",
        "            **dot_1's output shape **\n",
        "        </td>\n",
        "        <td>\n",
        "         (None, 1, 64)\n",
        "        </td>\n",
        "    </tr>\n",
        "           <tr>\n",
        "        <td>\n",
        "            **dense_3's output shape **\n",
        "        </td>\n",
        "        <td>\n",
        "         (None, 11) \n",
        "        </td>\n",
        "    </tr>\n",
        "</table>\n"
      ]
    },
    {
      "cell_type": "markdown",
      "metadata": {
        "id": "QLV1DRGSxr7S",
        "colab_type": "text"
      },
      "source": [
        "As usual, after creating your model in Keras, you need to compile it and define what loss, optimizer and metrics you want to use. Compile your model using `categorical_crossentropy` loss, a custom [Adam](https://keras.io/optimizers/#adam) [optimizer](https://keras.io/optimizers/#usage-of-optimizers) (`learning rate = 0.005`, $\\beta_1 = 0.9$, $\\beta_2 = 0.999$, `decay = 0.01`)  and `['accuracy']` metrics:"
      ]
    },
    {
      "cell_type": "code",
      "metadata": {
        "id": "c0aTxOoqxr7S",
        "colab_type": "code",
        "outputId": "25200607-c863-4bed-9197-117ccdfe78a6",
        "colab": {
          "base_uri": "https://localhost:8080/",
          "height": 105
        }
      },
      "source": [
        "### START CODE HERE ### (≈2 lines)\n",
        "opt = Adam(lr=0.005, beta_1=0.9, beta_2=0.999, decay = 0.01)\n",
        "model.compile(optimizer=opt, loss='categorical_crossentropy', metrics=['accuracy'])\n",
        "### END CODE HERE ###"
      ],
      "execution_count": 22,
      "outputs": [
        {
          "output_type": "stream",
          "text": [
            "WARNING:tensorflow:From /usr/local/lib/python3.6/dist-packages/keras/optimizers.py:793: The name tf.train.Optimizer is deprecated. Please use tf.compat.v1.train.Optimizer instead.\n",
            "\n",
            "WARNING:tensorflow:From /usr/local/lib/python3.6/dist-packages/keras/backend/tensorflow_backend.py:3576: The name tf.log is deprecated. Please use tf.math.log instead.\n",
            "\n"
          ],
          "name": "stdout"
        }
      ]
    },
    {
      "cell_type": "markdown",
      "metadata": {
        "id": "rFcqKEjVxr7V",
        "colab_type": "text"
      },
      "source": [
        "The last step is to define all your inputs and outputs to fit the model:\n",
        "- You already have X of shape $(m = 10000, T_x = 30)$ containing the training examples.\n",
        "- You need to create `s0` and `c0` to initialize your `post_attention_LSTM_cell` with 0s.\n",
        "- Given the `model()` you coded, you need the \"outputs\" to be a list of 11 elements of shape (m, T_y). So that: `outputs[i][0], ..., outputs[i][Ty]` represent the true labels (characters) corresponding to the $i^{th}$ training example (`X[i]`). More generally, `outputs[i][j]` is the true label of the $j^{th}$ character in the $i^{th}$ training example."
      ]
    },
    {
      "cell_type": "code",
      "metadata": {
        "id": "c6vdwZtfxr7V",
        "colab_type": "code",
        "colab": {}
      },
      "source": [
        "s0 = np.zeros((m, n_s))\n",
        "c0 = np.zeros((m, n_s))\n",
        "outputs = list(Yoh.swapaxes(0,1))"
      ],
      "execution_count": 0,
      "outputs": []
    },
    {
      "cell_type": "markdown",
      "metadata": {
        "id": "cXvciWztxr7X",
        "colab_type": "text"
      },
      "source": [
        "Let's now fit the model and run it for one epoch."
      ]
    },
    {
      "cell_type": "code",
      "metadata": {
        "id": "M50EpjpMxr7Y",
        "colab_type": "code",
        "outputId": "5d3ae79f-13e8-41ea-958e-26d268044169",
        "colab": {
          "base_uri": "https://localhost:8080/",
          "height": 411
        }
      },
      "source": [
        "model.fit([Xoh, s0, c0], outputs, epochs=1, batch_size=100)"
      ],
      "execution_count": 24,
      "outputs": [
        {
          "output_type": "stream",
          "text": [
            "WARNING:tensorflow:From /usr/local/lib/python3.6/dist-packages/tensorflow_core/python/ops/math_grad.py:1424: where (from tensorflow.python.ops.array_ops) is deprecated and will be removed in a future version.\n",
            "Instructions for updating:\n",
            "Use tf.where in 2.0, which has the same broadcast rule as np.where\n",
            "WARNING:tensorflow:From /usr/local/lib/python3.6/dist-packages/keras/backend/tensorflow_backend.py:1033: The name tf.assign_add is deprecated. Please use tf.compat.v1.assign_add instead.\n",
            "\n",
            "WARNING:tensorflow:From /usr/local/lib/python3.6/dist-packages/keras/backend/tensorflow_backend.py:1020: The name tf.assign is deprecated. Please use tf.compat.v1.assign instead.\n",
            "\n",
            "WARNING:tensorflow:From /usr/local/lib/python3.6/dist-packages/keras/backend/tensorflow_backend.py:3005: The name tf.Session is deprecated. Please use tf.compat.v1.Session instead.\n",
            "\n",
            "Epoch 1/1\n",
            "WARNING:tensorflow:From /usr/local/lib/python3.6/dist-packages/keras/backend/tensorflow_backend.py:190: The name tf.get_default_session is deprecated. Please use tf.compat.v1.get_default_session instead.\n",
            "\n",
            "WARNING:tensorflow:From /usr/local/lib/python3.6/dist-packages/keras/backend/tensorflow_backend.py:197: The name tf.ConfigProto is deprecated. Please use tf.compat.v1.ConfigProto instead.\n",
            "\n",
            "WARNING:tensorflow:From /usr/local/lib/python3.6/dist-packages/keras/backend/tensorflow_backend.py:207: The name tf.global_variables is deprecated. Please use tf.compat.v1.global_variables instead.\n",
            "\n",
            "WARNING:tensorflow:From /usr/local/lib/python3.6/dist-packages/keras/backend/tensorflow_backend.py:216: The name tf.is_variable_initialized is deprecated. Please use tf.compat.v1.is_variable_initialized instead.\n",
            "\n",
            "WARNING:tensorflow:From /usr/local/lib/python3.6/dist-packages/keras/backend/tensorflow_backend.py:223: The name tf.variables_initializer is deprecated. Please use tf.compat.v1.variables_initializer instead.\n",
            "\n",
            "10000/10000 [==============================] - 22s 2ms/step - loss: 16.7055 - dense_3_loss: 2.5911 - dense_3_acc: 0.4779 - dense_3_acc_1: 0.6612 - dense_3_acc_2: 0.2901 - dense_3_acc_3: 0.0668 - dense_3_acc_4: 0.9569 - dense_3_acc_5: 0.3709 - dense_3_acc_6: 0.0832 - dense_3_acc_7: 0.8933 - dense_3_acc_8: 0.2419 - dense_3_acc_9: 0.0985\n"
          ],
          "name": "stdout"
        },
        {
          "output_type": "execute_result",
          "data": {
            "text/plain": [
              "<keras.callbacks.History at 0x7fd8fd9f6518>"
            ]
          },
          "metadata": {
            "tags": []
          },
          "execution_count": 24
        }
      ]
    },
    {
      "cell_type": "markdown",
      "metadata": {
        "id": "JOhqWYupxr7Z",
        "colab_type": "text"
      },
      "source": [
        "While training you can see the loss as well as the accuracy on each of the 10 positions of the output. The table below gives you an example of what the accuracies could be if the batch had 2 examples: \n",
        "\n",
        "<img src=\"https://docs.google.com/uc?export=download&id=1NkxaWJm4GO1UB7srUAsNA1uJtgI_zsZx\" style=\"width:650px;height:400px;\">\n",
        "<caption><center>Thus, `dense_2_acc_8: 0.89` means that you are predicting the 7th character of the output correctly 89% of the time in the current batch of data. </center></caption>\n",
        "\n",
        "\n",
        "We have run this model for longer, and saved the weights. Run the next cell to load our weights. (By training a model for several minutes, you should be able to obtain a model of similar accuracy, but loading our model will save you time.) "
      ]
    },
    {
      "cell_type": "code",
      "metadata": {
        "id": "FTJlVV9_xr7Z",
        "colab_type": "code",
        "colab": {}
      },
      "source": [
        "model.load_weights(google_drive_path + '/models/model.h5')"
      ],
      "execution_count": 0,
      "outputs": []
    },
    {
      "cell_type": "markdown",
      "metadata": {
        "id": "T9cOB1mWxr7b",
        "colab_type": "text"
      },
      "source": [
        "You can now see the results on new examples."
      ]
    },
    {
      "cell_type": "code",
      "metadata": {
        "id": "hbifW5TAxr7b",
        "colab_type": "code",
        "outputId": "765f59a4-07c6-472d-c531-c95268a9f8f2",
        "colab": {
          "base_uri": "https://localhost:8080/",
          "height": 289
        }
      },
      "source": [
        "EXAMPLES = ['3 May 1979', '5 April 09', '21th of August 2016', 'Tue 10 Jul 2007', 'Saturday May 9 2018', 'March 3 2001', 'March 3rd 2001', '1 March 2001']\n",
        "for example in EXAMPLES:\n",
        "    \n",
        "    source = string_to_int(example, Tx, human_vocab)\n",
        "    source = np.array(list(map(lambda x: to_categorical(x, num_classes=len(human_vocab)), source))).swapaxes(0,1)\n",
        "    source = source.reshape(1, source.shape[1], source.shape[0])\n",
        "    prediction = model.predict([source, s0, c0])\n",
        "    prediction = np.argmax(prediction, axis = -1)\n",
        "    output = [inv_machine_vocab[int(i)] for i in prediction]\n",
        "    \n",
        "    print(\"source:\", example)\n",
        "    print(\"output:\", ''.join(output))"
      ],
      "execution_count": 26,
      "outputs": [
        {
          "output_type": "stream",
          "text": [
            "source: 3 May 1979\n",
            "output: 1018-07-21\n",
            "source: 5 April 09\n",
            "output: 2083-07-34\n",
            "source: 21th of August 2016\n",
            "output: 2015-09-11\n",
            "source: Tue 10 Jul 2007\n",
            "output: 1933-08-19\n",
            "source: Saturday May 9 2018\n",
            "output: 2014-19-11\n",
            "source: March 3 2001\n",
            "output: 1998-04-16\n",
            "source: March 3rd 2001\n",
            "output: 1983-09-16\n",
            "source: 1 March 2001\n",
            "output: 1988-07-17\n"
          ],
          "name": "stdout"
        }
      ]
    },
    {
      "cell_type": "code",
      "metadata": {
        "id": "l2xAu13kgus8",
        "colab_type": "code",
        "colab": {}
      },
      "source": [
        "def model_predict(example):\n",
        "    source = string_to_int(example, Tx, human_vocab)\n",
        "    source = np.array(list(map(lambda x: to_categorical(x, num_classes=len(human_vocab)), source))).swapaxes(0,1)\n",
        "\n",
        "    source = source.reshape(1, source.shape[1], source.shape[0])\n",
        "\n",
        "    prediction = model.predict([source, s0, c0])\n",
        "    \n",
        "    prediction = np.argmax(prediction, axis = -1)\n",
        "    output = [inv_machine_vocab[int(i)] for i in prediction]\n",
        "    \n",
        "    print(\"source:\", example)\n",
        "    print(\"output:\", ''.join(output))"
      ],
      "execution_count": 0,
      "outputs": []
    },
    {
      "cell_type": "code",
      "metadata": {
        "id": "JWeo0cY6g2PH",
        "colab_type": "code",
        "outputId": "84bd3ac5-0165-49ca-93b2-0b1835e1f403",
        "colab": {
          "base_uri": "https://localhost:8080/",
          "height": 51
        }
      },
      "source": [
        "model_predict('3 May 1979')"
      ],
      "execution_count": 28,
      "outputs": [
        {
          "output_type": "stream",
          "text": [
            "source: 3 May 1979\n",
            "output: 1018-07-21\n"
          ],
          "name": "stdout"
        }
      ]
    },
    {
      "cell_type": "code",
      "metadata": {
        "id": "-5wStqgO8wvY",
        "colab_type": "code",
        "colab": {}
      },
      "source": [
        "def plot_2d_heatmap(numpy_array):\n",
        "  plt.imshow(numpy_array, cmap='Greys', interpolation='nearest')\n",
        "  plt.colorbar()\n",
        "  plt.show()"
      ],
      "execution_count": 0,
      "outputs": []
    },
    {
      "cell_type": "code",
      "metadata": {
        "id": "_97-I3Q9j0SU",
        "colab_type": "code",
        "colab": {}
      },
      "source": [
        "def model_predict_v2(text, n_s = 64, Tx = 30, Ty = 10, print_plot=False):\n",
        "  s0 = np.zeros((1, n_s))\n",
        "  c0 = np.zeros((1, n_s))\n",
        "\n",
        "  encoded = np.array(string_to_int(text, Tx, human_vocab)).reshape((1, 30))\n",
        "  if print_plot:\n",
        "    print(encoded.shape)\n",
        "  encoded = np.array(list(map(lambda x: to_categorical(x, num_classes=len(human_vocab)), encoded)))\n",
        "  if print_plot:\n",
        "    print(encoded.shape)\n",
        "    plot_2d_heatmap(encoded.reshape(encoded.shape[1], encoded.shape[2]))\n",
        "\n",
        "  encoded2 = string_to_int(text, Tx, human_vocab) #Difference 1\n",
        "  encoded2 = np.array(list(map(lambda x: to_categorical(x, num_classes=len(human_vocab)), encoded2))).swapaxes(0,1) #Difference 2\n",
        "  if print_plot:\n",
        "    print(encoded2.shape)\n",
        "  encoded2 = encoded2.reshape(1, encoded2.shape[1], encoded2.shape[0]) #Difference 3\n",
        "  if print_plot:\n",
        "    print(encoded2.shape)\n",
        "    plot_2d_heatmap(encoded2.reshape(encoded2.shape[1], encoded2.shape[2]))\n",
        "\n",
        "    encoded3 = encoded - encoded2\n",
        "    plot_2d_heatmap(encoded3.reshape(encoded3.shape[1], encoded3.shape[2]))\n",
        "\n",
        "  prediction = model.predict([encoded, s0, c0])\n",
        "\n",
        "  predicted_text = []\n",
        "  for i in range(len(prediction)):\n",
        "      predicted_text.append(int(np.argmax(prediction[i], axis=1)))\n",
        "      \n",
        "  predicted_text = list(predicted_text)\n",
        "  predicted_text = int_to_string(predicted_text, inv_machine_vocab)\n",
        "  text_ = list(text)\n",
        "  \n",
        "  print('source:', text)\n",
        "  print('output:', ''.join(predicted_text))"
      ],
      "execution_count": 0,
      "outputs": []
    },
    {
      "cell_type": "code",
      "metadata": {
        "id": "bFJIYND4j0VO",
        "colab_type": "code",
        "outputId": "41718296-cda2-4e15-e7df-7aeda7b4f39b",
        "colab": {
          "base_uri": "https://localhost:8080/",
          "height": 875
        }
      },
      "source": [
        "model_predict_v2('3 May 1979', print_plot=True)"
      ],
      "execution_count": 31,
      "outputs": [
        {
          "output_type": "stream",
          "text": [
            "(1, 30)\n",
            "(1, 30, 37)\n"
          ],
          "name": "stdout"
        },
        {
          "output_type": "display_data",
          "data": {
            "image/png": "[encoded data removed]",
            "text/plain": [
              "<Figure size 432x288 with 2 Axes>"
            ]
          },
          "metadata": {
            "tags": []
          }
        },
        {
          "output_type": "stream",
          "text": [
            "(37, 30)\n",
            "(1, 30, 37)\n"
          ],
          "name": "stdout"
        },
        {
          "output_type": "display_data",
          "data": {
            "image/png": "[encoded data removed]",
            "text/plain": [
              "<Figure size 432x288 with 2 Axes>"
            ]
          },
          "metadata": {
            "tags": []
          }
        },
        {
          "output_type": "display_data",
          "data": {
            "image/png": "[encoded data removed]",
            "text/plain": [
              "<Figure size 432x288 with 2 Axes>"
            ]
          },
          "metadata": {
            "tags": []
          }
        },
        {
          "output_type": "stream",
          "text": [
            "source: 3 May 1979\n",
            "output: 1979-05-03\n"
          ],
          "name": "stdout"
        }
      ]
    },
    {
      "cell_type": "code",
      "metadata": {
        "id": "MG4M7CaW-024",
        "colab_type": "code",
        "colab": {
          "base_uri": "https://localhost:8080/",
          "height": 51
        },
        "outputId": "20a7a62e-f744-4d8e-ee2e-ea4e1fd57858"
      },
      "source": [
        "model_predict_v2('Someweirdday 12 Feb 2019')"
      ],
      "execution_count": 32,
      "outputs": [
        {
          "output_type": "stream",
          "text": [
            "source: Someweirdday 12 Feb 2019\n",
            "output: 2019-02-12\n"
          ],
          "name": "stdout"
        }
      ]
    },
    {
      "cell_type": "code",
      "metadata": {
        "id": "c18cTZar5iBL",
        "colab_type": "code",
        "colab": {
          "base_uri": "https://localhost:8080/",
          "height": 289
        },
        "outputId": "73f902a2-674e-4d78-c3c8-0bb647bc3065"
      },
      "source": [
        "for i in range(len(EXAMPLES)):\n",
        "  model_predict_v2(EXAMPLES[i])"
      ],
      "execution_count": 33,
      "outputs": [
        {
          "output_type": "stream",
          "text": [
            "source: 3 May 1979\n",
            "output: 1979-05-03\n",
            "source: 5 April 09\n",
            "output: 2009-05-05\n",
            "source: 21th of August 2016\n",
            "output: 2016-08-21\n",
            "source: Tue 10 Jul 2007\n",
            "output: 2007-07-10\n",
            "source: Saturday May 9 2018\n",
            "output: 2018-05-09\n",
            "source: March 3 2001\n",
            "output: 2001-03-03\n",
            "source: March 3rd 2001\n",
            "output: 2001-03-03\n",
            "source: 1 March 2001\n",
            "output: 2001-03-01\n"
          ],
          "name": "stdout"
        }
      ]
    },
    {
      "cell_type": "markdown",
      "metadata": {
        "id": "hcVD_IQHxr7d",
        "colab_type": "text"
      },
      "source": [
        "You can also change these examples to test with your own examples. The next part will give you a better sense on what the attention mechanism is doing--i.e., what part of the input the network is paying attention to when generating a particular output character. "
      ]
    },
    {
      "cell_type": "markdown",
      "metadata": {
        "id": "zp2ybK2Hxr7d",
        "colab_type": "text"
      },
      "source": [
        "## 3 - Visualizing Attention (Optional / Ungraded)\n",
        "\n",
        "Since the problem has a fixed output length of 10, it is also possible to carry out this task using 10 different softmax units to generate the 10 characters of the output. But one advantage of the attention model is that each part of the output (say the month) knows it needs to depend only on a small part of the input (the characters in the input giving the month). We can  visualize what part of the output is looking at what part of the input.\n",
        "\n",
        "Consider the task of translating \"Saturday 9 May 2018\" to \"2018-05-09\". If we visualize the computed $\\alpha^{\\langle t, t' \\rangle}$ we get this: \n",
        "\n",
        "<img src=\"https://docs.google.com/uc?export=download&id=1NrUjwN09a1sKTxi9tJZoA0wv5O5_h6Gq\" style=\"width:650px;height:400px;\">\n",
        "<caption><center> **Figure 8**: Full Attention Map</center></caption>\n",
        "\n",
        "Notice how the output ignores the \"Saturday\" portion of the input. None of the output timesteps are paying much attention to that portion of the input. We see also that 9 has been translated as 09 and May has been correctly translated into 05, with the output paying attention to the parts of the input it needs to to make the translation. The year mostly requires it to pay attention to the input's \"18\" in order to generate \"2018.\" \n",
        "\n"
      ]
    },
    {
      "cell_type": "markdown",
      "metadata": {
        "id": "BuOfuDbRxr7d",
        "colab_type": "text"
      },
      "source": [
        "### 3.1 - Getting the activations from the network\n",
        "\n",
        "Lets now visualize the attention values in your network. We'll propagate an example through the network, then visualize the values of $\\alpha^{\\langle t, t' \\rangle}$. \n",
        "\n",
        "To figure out where the attention values are located, let's start by printing a summary of the model ."
      ]
    },
    {
      "cell_type": "code",
      "metadata": {
        "scrolled": false,
        "id": "NnnleHkuxr7e",
        "colab_type": "code",
        "outputId": "610e35b9-48e9-44ee-9aa0-e8b4af5a63ef",
        "colab": {
          "base_uri": "https://localhost:8080/",
          "height": 1000
        }
      },
      "source": [
        "model.summary()"
      ],
      "execution_count": 34,
      "outputs": [
        {
          "output_type": "stream",
          "text": [
            "Model: \"model_1\"\n",
            "__________________________________________________________________________________________________\n",
            "Layer (type)                    Output Shape         Param #     Connected to                     \n",
            "==================================================================================================\n",
            "input_1 (InputLayer)            (None, 30, 37)       0                                            \n",
            "__________________________________________________________________________________________________\n",
            "s0 (InputLayer)                 (None, 64)           0                                            \n",
            "__________________________________________________________________________________________________\n",
            "bidirectional_1 (Bidirectional) (None, 30, 64)       17920       input_1[0][0]                    \n",
            "__________________________________________________________________________________________________\n",
            "repeat_vector_1 (RepeatVector)  (None, 30, 64)       0           s0[0][0]                         \n",
            "                                                                 lstm_1[0][0]                     \n",
            "                                                                 lstm_1[1][0]                     \n",
            "                                                                 lstm_1[2][0]                     \n",
            "                                                                 lstm_1[3][0]                     \n",
            "                                                                 lstm_1[4][0]                     \n",
            "                                                                 lstm_1[5][0]                     \n",
            "                                                                 lstm_1[6][0]                     \n",
            "                                                                 lstm_1[7][0]                     \n",
            "                                                                 lstm_1[8][0]                     \n",
            "__________________________________________________________________________________________________\n",
            "concatenate_1 (Concatenate)     (None, 30, 128)      0           bidirectional_1[0][0]            \n",
            "                                                                 repeat_vector_1[0][0]            \n",
            "                                                                 bidirectional_1[0][0]            \n",
            "                                                                 repeat_vector_1[1][0]            \n",
            "                                                                 bidirectional_1[0][0]            \n",
            "                                                                 repeat_vector_1[2][0]            \n",
            "                                                                 bidirectional_1[0][0]            \n",
            "                                                                 repeat_vector_1[3][0]            \n",
            "                                                                 bidirectional_1[0][0]            \n",
            "                                                                 repeat_vector_1[4][0]            \n",
            "                                                                 bidirectional_1[0][0]            \n",
            "                                                                 repeat_vector_1[5][0]            \n",
            "                                                                 bidirectional_1[0][0]            \n",
            "                                                                 repeat_vector_1[6][0]            \n",
            "                                                                 bidirectional_1[0][0]            \n",
            "                                                                 repeat_vector_1[7][0]            \n",
            "                                                                 bidirectional_1[0][0]            \n",
            "                                                                 repeat_vector_1[8][0]            \n",
            "                                                                 bidirectional_1[0][0]            \n",
            "                                                                 repeat_vector_1[9][0]            \n",
            "__________________________________________________________________________________________________\n",
            "dense_1 (Dense)                 (None, 30, 10)       1290        concatenate_1[0][0]              \n",
            "                                                                 concatenate_1[1][0]              \n",
            "                                                                 concatenate_1[2][0]              \n",
            "                                                                 concatenate_1[3][0]              \n",
            "                                                                 concatenate_1[4][0]              \n",
            "                                                                 concatenate_1[5][0]              \n",
            "                                                                 concatenate_1[6][0]              \n",
            "                                                                 concatenate_1[7][0]              \n",
            "                                                                 concatenate_1[8][0]              \n",
            "                                                                 concatenate_1[9][0]              \n",
            "__________________________________________________________________________________________________\n",
            "dense_2 (Dense)                 (None, 30, 1)        11          dense_1[0][0]                    \n",
            "                                                                 dense_1[1][0]                    \n",
            "                                                                 dense_1[2][0]                    \n",
            "                                                                 dense_1[3][0]                    \n",
            "                                                                 dense_1[4][0]                    \n",
            "                                                                 dense_1[5][0]                    \n",
            "                                                                 dense_1[6][0]                    \n",
            "                                                                 dense_1[7][0]                    \n",
            "                                                                 dense_1[8][0]                    \n",
            "                                                                 dense_1[9][0]                    \n",
            "__________________________________________________________________________________________________\n",
            "attention_weights (Activation)  (None, 30, 1)        0           dense_2[0][0]                    \n",
            "                                                                 dense_2[1][0]                    \n",
            "                                                                 dense_2[2][0]                    \n",
            "                                                                 dense_2[3][0]                    \n",
            "                                                                 dense_2[4][0]                    \n",
            "                                                                 dense_2[5][0]                    \n",
            "                                                                 dense_2[6][0]                    \n",
            "                                                                 dense_2[7][0]                    \n",
            "                                                                 dense_2[8][0]                    \n",
            "                                                                 dense_2[9][0]                    \n",
            "__________________________________________________________________________________________________\n",
            "dot_1 (Dot)                     (None, 1, 64)        0           attention_weights[0][0]          \n",
            "                                                                 bidirectional_1[0][0]            \n",
            "                                                                 attention_weights[1][0]          \n",
            "                                                                 bidirectional_1[0][0]            \n",
            "                                                                 attention_weights[2][0]          \n",
            "                                                                 bidirectional_1[0][0]            \n",
            "                                                                 attention_weights[3][0]          \n",
            "                                                                 bidirectional_1[0][0]            \n",
            "                                                                 attention_weights[4][0]          \n",
            "                                                                 bidirectional_1[0][0]            \n",
            "                                                                 attention_weights[5][0]          \n",
            "                                                                 bidirectional_1[0][0]            \n",
            "                                                                 attention_weights[6][0]          \n",
            "                                                                 bidirectional_1[0][0]            \n",
            "                                                                 attention_weights[7][0]          \n",
            "                                                                 bidirectional_1[0][0]            \n",
            "                                                                 attention_weights[8][0]          \n",
            "                                                                 bidirectional_1[0][0]            \n",
            "                                                                 attention_weights[9][0]          \n",
            "                                                                 bidirectional_1[0][0]            \n",
            "__________________________________________________________________________________________________\n",
            "c0 (InputLayer)                 (None, 64)           0                                            \n",
            "__________________________________________________________________________________________________\n",
            "lstm_1 (LSTM)                   [(None, 64), (None,  33024       dot_1[0][0]                      \n",
            "                                                                 s0[0][0]                         \n",
            "                                                                 c0[0][0]                         \n",
            "                                                                 dot_1[1][0]                      \n",
            "                                                                 lstm_1[0][0]                     \n",
            "                                                                 lstm_1[0][2]                     \n",
            "                                                                 dot_1[2][0]                      \n",
            "                                                                 lstm_1[1][0]                     \n",
            "                                                                 lstm_1[1][2]                     \n",
            "                                                                 dot_1[3][0]                      \n",
            "                                                                 lstm_1[2][0]                     \n",
            "                                                                 lstm_1[2][2]                     \n",
            "                                                                 dot_1[4][0]                      \n",
            "                                                                 lstm_1[3][0]                     \n",
            "                                                                 lstm_1[3][2]                     \n",
            "                                                                 dot_1[5][0]                      \n",
            "                                                                 lstm_1[4][0]                     \n",
            "                                                                 lstm_1[4][2]                     \n",
            "                                                                 dot_1[6][0]                      \n",
            "                                                                 lstm_1[5][0]                     \n",
            "                                                                 lstm_1[5][2]                     \n",
            "                                                                 dot_1[7][0]                      \n",
            "                                                                 lstm_1[6][0]                     \n",
            "                                                                 lstm_1[6][2]                     \n",
            "                                                                 dot_1[8][0]                      \n",
            "                                                                 lstm_1[7][0]                     \n",
            "                                                                 lstm_1[7][2]                     \n",
            "                                                                 dot_1[9][0]                      \n",
            "                                                                 lstm_1[8][0]                     \n",
            "                                                                 lstm_1[8][2]                     \n",
            "__________________________________________________________________________________________________\n",
            "dense_3 (Dense)                 (None, 11)           715         lstm_1[0][0]                     \n",
            "                                                                 lstm_1[1][0]                     \n",
            "                                                                 lstm_1[2][0]                     \n",
            "                                                                 lstm_1[3][0]                     \n",
            "                                                                 lstm_1[4][0]                     \n",
            "                                                                 lstm_1[5][0]                     \n",
            "                                                                 lstm_1[6][0]                     \n",
            "                                                                 lstm_1[7][0]                     \n",
            "                                                                 lstm_1[8][0]                     \n",
            "                                                                 lstm_1[9][0]                     \n",
            "==================================================================================================\n",
            "Total params: 52,960\n",
            "Trainable params: 52,960\n",
            "Non-trainable params: 0\n",
            "__________________________________________________________________________________________________\n"
          ],
          "name": "stdout"
        }
      ]
    },
    {
      "cell_type": "markdown",
      "metadata": {
        "id": "apXrD8BFxr7f",
        "colab_type": "text"
      },
      "source": [
        "<table>\n",
        "<td> \n",
        "<img src=\"https://docs.google.com/uc?export=download&id=1dlXyTrQy0xQcv96PHID7Tl06pRsCSxv8\" style=\"width:650px;height:400px;\">\n",
        "</td> \n",
        "<td> \n",
        "<img src=\"https://docs.google.com/uc?export=download&id=1QthpaCYQWSI0S7rPSufPlV2-KWw_rnsG\" style=\"width:650px;height:400px;\">\n",
        "</td> \n",
        "</table>\n",
        "<caption><center> **Figure 1**: Neural machine translation with attention</center></caption>\n"
      ]
    },
    {
      "cell_type": "markdown",
      "metadata": {
        "id": "973u0xz4xr7g",
        "colab_type": "text"
      },
      "source": [
        "Navigate through the output of `model.summary()` above. You can see that the layer named `attention_weights` outputs the `alphas` of shape (m, 30, 1) before `dot_2` computes the context vector for every time step $t = 0, \\ldots, T_y-1$. Lets get the activations from this layer.\n",
        "\n",
        "The function `attention_map()` pulls out the attention values from your model and plots them."
      ]
    },
    {
      "cell_type": "code",
      "metadata": {
        "id": "PIPPtwDXhepR",
        "colab_type": "code",
        "colab": {}
      },
      "source": [
        "def pre_plot(model, input_vocabulary, inv_output_vocabulary, text, n_s = 128, num = 6, Tx = 30, Ty = 10):\n",
        "  attention_map = np.zeros((10, 30))\n",
        "  Ty, Tx = attention_map.shape\n",
        "\n",
        "  s0 = np.zeros((1, n_s))\n",
        "  c0 = np.zeros((1, n_s))\n",
        "  layer = model.layers[num]\n",
        "\n",
        "  encoded = np.array(string_to_int(text, Tx, input_vocabulary)).reshape((1, 30))\n",
        "  encoded = np.array(list(map(lambda x: to_categorical(x, num_classes=len(input_vocabulary)), encoded)))\n",
        "\n",
        "  f = K.function(model.inputs, [layer.get_output_at(t) for t in range(Ty)])\n",
        "  r = f([encoded, s0, c0])\n",
        "\n",
        "  for t in range(Ty):\n",
        "      for t_prime in range(Tx):\n",
        "          attention_map[t][t_prime] = r[t][0,t_prime,0]\n",
        "\n",
        "  # Normalize attention map\n",
        "  #     row_max = attention_map.max(axis=1)\n",
        "  #     attention_map = attention_map / row_max[:, None]\n",
        "\n",
        "  prediction = model.predict([encoded, s0, c0])\n",
        "\n",
        "  predicted_text = []\n",
        "  for i in range(len(prediction)):\n",
        "      predicted_text.append(int(np.argmax(prediction[i], axis=1)))\n",
        "      \n",
        "  predicted_text = list(predicted_text)\n",
        "  predicted_text = int_to_string(predicted_text, inv_output_vocabulary)\n",
        "  text_ = list(text)\n",
        "  print('Input', text)\n",
        "  #print('Output', predicted_text)\n",
        "  print('Output', ''.join(predicted_text))\n",
        "\n",
        "  # get the lengths of the string\n",
        "  input_length = len(text)\n",
        "  output_length = Ty\n",
        "  \n",
        "  # Plot the attention_map\n",
        "  #plt.clf();\n",
        "  f = plt.figure(figsize=(12, 10))\n",
        "  ax = f.add_subplot(1, 1, 1)\n",
        "\n",
        "  # add image\n",
        "  i = ax.imshow(attention_map, interpolation='nearest', cmap='Blues')\n",
        "\n",
        "  # add colorbar\n",
        "  cbaxes = f.add_axes([0.125, 0.3, 0.6, 0.03])\n",
        "  cbar = f.colorbar(i, cax=cbaxes, orientation='horizontal')\n",
        "  cbar.ax.set_xlabel('Alpha value (Probability output of the \"softmax\")', labelpad=2)\n",
        "\n",
        "  # add labels\n",
        "  ax.set_yticks(range(output_length))\n",
        "  ax.set_yticklabels(predicted_text[:output_length])\n",
        "\n",
        "  ax.set_xticks(range(input_length))\n",
        "  ax.set_xticklabels(text_[:input_length], rotation=45)\n",
        "\n",
        "  ax.set_xlabel('Input Sequence')\n",
        "  ax.set_ylabel('Output Sequence')\n",
        "\n",
        "  # add grid and legend\n",
        "  ax.grid()\n",
        "\n",
        "  #f.show()\n",
        "    \n",
        "  return attention_map"
      ],
      "execution_count": 0,
      "outputs": []
    },
    {
      "cell_type": "code",
      "metadata": {
        "id": "1bfEQBJPhyZv",
        "colab_type": "code",
        "outputId": "2fe57ba0-f797-4565-d029-d95f9860471b",
        "colab": {
          "base_uri": "https://localhost:8080/",
          "height": 344
        }
      },
      "source": [
        "text = EXAMPLES[0]\n",
        "pre_plot(model, human_vocab, inv_machine_vocab, text, num = 7, n_s = 64);"
      ],
      "execution_count": 36,
      "outputs": [
        {
          "output_type": "stream",
          "text": [
            "Input 3 May 1979\n",
            "Output 1979-05-03\n"
          ],
          "name": "stdout"
        },
        {
          "output_type": "display_data",
          "data": {
            "image/png": "[encoded data removed]",
            "text/plain": [
              "<Figure size 864x720 with 2 Axes>"
            ]
          },
          "metadata": {
            "tags": []
          }
        }
      ]
    },
    {
      "cell_type": "code",
      "metadata": {
        "id": "REMeszqljHzR",
        "colab_type": "code",
        "outputId": "9307599c-abba-40be-d5c2-5ac9384796c0",
        "colab": {
          "base_uri": "https://localhost:8080/",
          "height": 344
        }
      },
      "source": [
        "text = EXAMPLES[1]\n",
        "pre_plot(model, human_vocab, inv_machine_vocab, text, num = 7, n_s = 64);"
      ],
      "execution_count": 37,
      "outputs": [
        {
          "output_type": "stream",
          "text": [
            "Input 5 April 09\n",
            "Output 2009-05-05\n"
          ],
          "name": "stdout"
        },
        {
          "output_type": "display_data",
          "data": {
            "image/png": "[encoded data removed]",
            "text/plain": [
              "<Figure size 864x720 with 2 Axes>"
            ]
          },
          "metadata": {
            "tags": []
          }
        }
      ]
    },
    {
      "cell_type": "code",
      "metadata": {
        "id": "H9qYOM2R0tq_",
        "colab_type": "code",
        "colab": {
          "base_uri": "https://localhost:8080/",
          "height": 344
        },
        "outputId": "7765ee84-5a37-476f-c320-769357db8af5"
      },
      "source": [
        "pre_plot(model, human_vocab, inv_machine_vocab, '6 April 09', num = 7, n_s = 64);"
      ],
      "execution_count": 38,
      "outputs": [
        {
          "output_type": "stream",
          "text": [
            "Input 6 April 09\n",
            "Output 2009-06-06\n"
          ],
          "name": "stdout"
        },
        {
          "output_type": "display_data",
          "data": {
            "image/png": "[encoded data removed]",
            "text/plain": [
              "<Figure size 864x720 with 2 Axes>"
            ]
          },
          "metadata": {
            "tags": []
          }
        }
      ]
    },
    {
      "cell_type": "code",
      "metadata": {
        "id": "4x6x0ble05P1",
        "colab_type": "code",
        "colab": {
          "base_uri": "https://localhost:8080/",
          "height": 344
        },
        "outputId": "bbc09667-4187-400e-9bcc-4fbcb840574d"
      },
      "source": [
        "pre_plot(model, human_vocab, inv_machine_vocab, '7 April 09', num = 7, n_s = 64);"
      ],
      "execution_count": 39,
      "outputs": [
        {
          "output_type": "stream",
          "text": [
            "Input 7 April 09\n",
            "Output 2009-07-07\n"
          ],
          "name": "stdout"
        },
        {
          "output_type": "display_data",
          "data": {
            "image/png": "[encoded data removed]",
            "text/plain": [
              "<Figure size 864x720 with 2 Axes>"
            ]
          },
          "metadata": {
            "tags": []
          }
        }
      ]
    },
    {
      "cell_type": "code",
      "metadata": {
        "id": "l-rxaRO5jH1R",
        "colab_type": "code",
        "outputId": "762e115e-99e4-4f1f-ccc3-01e8e50966ab",
        "colab": {
          "base_uri": "https://localhost:8080/",
          "height": 344
        }
      },
      "source": [
        "text = EXAMPLES[2]\n",
        "pre_plot(model, human_vocab, inv_machine_vocab, text, num = 7, n_s = 64);"
      ],
      "execution_count": 40,
      "outputs": [
        {
          "output_type": "stream",
          "text": [
            "Input 21th of August 2016\n",
            "Output 2016-08-21\n"
          ],
          "name": "stdout"
        },
        {
          "output_type": "display_data",
          "data": {
            "image/png": "[encoded data removed]",
            "text/plain": [
              "<Figure size 864x720 with 2 Axes>"
            ]
          },
          "metadata": {
            "tags": []
          }
        }
      ]
    },
    {
      "cell_type": "code",
      "metadata": {
        "id": "A2K3jjO6jH3J",
        "colab_type": "code",
        "outputId": "1dc4f9da-fcc3-46ca-d891-ddd952c073fd",
        "colab": {
          "base_uri": "https://localhost:8080/",
          "height": 344
        }
      },
      "source": [
        "text = EXAMPLES[3]\n",
        "pre_plot(model, human_vocab, inv_machine_vocab, text, num = 7, n_s = 64);"
      ],
      "execution_count": 41,
      "outputs": [
        {
          "output_type": "stream",
          "text": [
            "Input Tue 10 Jul 2007\n",
            "Output 2007-07-10\n"
          ],
          "name": "stdout"
        },
        {
          "output_type": "display_data",
          "data": {
            "image/png": "[encoded data removed]",
            "text/plain": [
              "<Figure size 864x720 with 2 Axes>"
            ]
          },
          "metadata": {
            "tags": []
          }
        }
      ]
    },
    {
      "cell_type": "code",
      "metadata": {
        "id": "C15g9u9ljH5F",
        "colab_type": "code",
        "colab": {
          "base_uri": "https://localhost:8080/",
          "height": 344
        },
        "outputId": "cfd87d2d-8648-49f5-94b1-846243e99255"
      },
      "source": [
        "text = EXAMPLES[4]\n",
        "pre_plot(model, human_vocab, inv_machine_vocab, text, num = 7, n_s = 64);"
      ],
      "execution_count": 42,
      "outputs": [
        {
          "output_type": "stream",
          "text": [
            "Input Saturday May 9 2018\n",
            "Output 2018-05-09\n"
          ],
          "name": "stdout"
        },
        {
          "output_type": "display_data",
          "data": {
            "image/png": "[encoded data removed]",
            "text/plain": [
              "<Figure size 864x720 with 2 Axes>"
            ]
          },
          "metadata": {
            "tags": []
          }
        }
      ]
    },
    {
      "cell_type": "code",
      "metadata": {
        "id": "gW6O_2wtjH7F",
        "colab_type": "code",
        "colab": {
          "base_uri": "https://localhost:8080/",
          "height": 344
        },
        "outputId": "cbe6fa5d-e75b-41fb-daa5-44f28286c4e7"
      },
      "source": [
        "text = EXAMPLES[5]\n",
        "pre_plot(model, human_vocab, inv_machine_vocab, text, num = 7, n_s = 64);"
      ],
      "execution_count": 43,
      "outputs": [
        {
          "output_type": "stream",
          "text": [
            "Input March 3 2001\n",
            "Output 2001-03-03\n"
          ],
          "name": "stdout"
        },
        {
          "output_type": "display_data",
          "data": {
            "image/png": "[encoded data removed]",
            "text/plain": [
              "<Figure size 864x720 with 2 Axes>"
            ]
          },
          "metadata": {
            "tags": []
          }
        }
      ]
    },
    {
      "cell_type": "code",
      "metadata": {
        "id": "LaWKC7R4jH9R",
        "colab_type": "code",
        "colab": {
          "base_uri": "https://localhost:8080/",
          "height": 344
        },
        "outputId": "da598218-6f3e-4252-ecf8-56cdb9b55dcf"
      },
      "source": [
        "text = EXAMPLES[6]\n",
        "pre_plot(model, human_vocab, inv_machine_vocab, text, num = 7, n_s = 64);"
      ],
      "execution_count": 44,
      "outputs": [
        {
          "output_type": "stream",
          "text": [
            "Input March 3rd 2001\n",
            "Output 2001-03-03\n"
          ],
          "name": "stdout"
        },
        {
          "output_type": "display_data",
          "data": {
            "image/png": "[encoded data removed]",
            "text/plain": [
              "<Figure size 864x720 with 2 Axes>"
            ]
          },
          "metadata": {
            "tags": []
          }
        }
      ]
    },
    {
      "cell_type": "code",
      "metadata": {
        "id": "dUEGrl4wjH_u",
        "colab_type": "code",
        "colab": {
          "base_uri": "https://localhost:8080/",
          "height": 344
        },
        "outputId": "033a7c96-9a98-4e0f-d562-3e17a61265d1"
      },
      "source": [
        "text = EXAMPLES[7]\n",
        "pre_plot(model, human_vocab, inv_machine_vocab, text, num = 7, n_s = 64);"
      ],
      "execution_count": 45,
      "outputs": [
        {
          "output_type": "stream",
          "text": [
            "Input 1 March 2001\n",
            "Output 2001-03-01\n"
          ],
          "name": "stdout"
        },
        {
          "output_type": "display_data",
          "data": {
            "image/png": "[encoded data removed]",
            "text/plain": [
              "<Figure size 864x720 with 2 Axes>"
            ]
          },
          "metadata": {
            "tags": []
          }
        }
      ]
    },
    {
      "cell_type": "code",
      "metadata": {
        "scrolled": false,
        "id": "ezbLGKQBxr7g",
        "colab_type": "code",
        "outputId": "fc30ec0d-5a2c-4ce7-ce91-74a77fd5e71b",
        "colab": {
          "base_uri": "https://localhost:8080/",
          "height": 378
        }
      },
      "source": [
        "text = 'Tuesday 09 Oct 1993'\n",
        "model_predict(text)\n",
        "#attention_map = plot_attention_map(model, human_vocab, inv_machine_vocab, \"Tuesday 09 Oct 1993\", num = 7, n_s = 64)\n",
        "pre_plot(model, human_vocab, inv_machine_vocab, text, num = 7, n_s = 64);"
      ],
      "execution_count": 46,
      "outputs": [
        {
          "output_type": "stream",
          "text": [
            "source: Tuesday 09 Oct 1993\n",
            "output: 2913-07-33\n",
            "Input Tuesday 09 Oct 1993\n",
            "Output 1993-10-09\n"
          ],
          "name": "stdout"
        },
        {
          "output_type": "display_data",
          "data": {
            "image/png": "[encoded data removed]",
            "text/plain": [
              "<Figure size 864x720 with 2 Axes>"
            ]
          },
          "metadata": {
            "tags": []
          }
        }
      ]
    },
    {
      "cell_type": "code",
      "metadata": {
        "scrolled": false,
        "id": "i5psULddxr7i",
        "colab_type": "code",
        "outputId": "243015bf-2acb-4753-da31-1c47d185e75f",
        "colab": {
          "base_uri": "https://localhost:8080/",
          "height": 344
        }
      },
      "source": [
        "pre_plot(model, human_vocab, inv_machine_vocab, \"Someweirdday 12 Feb 2019\", num = 7, n_s = 64);"
      ],
      "execution_count": 47,
      "outputs": [
        {
          "output_type": "stream",
          "text": [
            "Input Someweirdday 12 Feb 2019\n",
            "Output 2019-02-12\n"
          ],
          "name": "stdout"
        },
        {
          "output_type": "display_data",
          "data": {
            "image/png": "[encoded data removed]",
            "text/plain": [
              "<Figure size 864x720 with 2 Axes>"
            ]
          },
          "metadata": {
            "tags": []
          }
        }
      ]
    },
    {
      "cell_type": "code",
      "metadata": {
        "scrolled": false,
        "id": "cLNsowAqxr7k",
        "colab_type": "code",
        "outputId": "a61ed887-9ee0-4802-db81-6962025e21da",
        "colab": {
          "base_uri": "https://localhost:8080/",
          "height": 344
        }
      },
      "source": [
        "pre_plot(model, human_vocab, inv_machine_vocab, \"paynoattentionhere 35 Dec 1990\", num = 7, n_s = 64);"
      ],
      "execution_count": 48,
      "outputs": [
        {
          "output_type": "stream",
          "text": [
            "Input paynoattentionhere 35 Dec 1990\n",
            "Output 1993-12-09\n"
          ],
          "name": "stdout"
        },
        {
          "output_type": "display_data",
          "data": {
            "image/png": "[encoded data removed]",
            "text/plain": [
              "<Figure size 864x720 with 2 Axes>"
            ]
          },
          "metadata": {
            "tags": []
          }
        }
      ]
    },
    {
      "cell_type": "code",
      "metadata": {
        "scrolled": false,
        "id": "Ujf2mjZFxr7m",
        "colab_type": "code",
        "outputId": "ebaa7474-1cc6-4a63-b941-ddd0afe5f82b",
        "colab": {
          "base_uri": "https://localhost:8080/",
          "height": 329
        }
      },
      "source": [
        "pre_plot(model, human_vocab, inv_machine_vocab, \"paynoattentionhere 12 Maytember 2019\", num = 7, n_s = 64);"
      ],
      "execution_count": 49,
      "outputs": [
        {
          "output_type": "stream",
          "text": [
            "Input paynoattentionhere 12 Maytember 2019\n",
            "Output 200-00-01-\n"
          ],
          "name": "stdout"
        },
        {
          "output_type": "display_data",
          "data": {
            "image/png": "[encoded data removed]",
            "text/plain": [
              "<Figure size 864x720 with 2 Axes>"
            ]
          },
          "metadata": {
            "tags": []
          }
        }
      ]
    },
    {
      "cell_type": "markdown",
      "metadata": {
        "id": "9-ZPtTq8xr7o",
        "colab_type": "text"
      },
      "source": [
        "On the generated plot you can observe the values of the attention weights for each character of the predicted output. Examine this plot and check that where the network is paying attention makes sense to you.\n",
        "\n",
        "In the date translation application, you will observe that most of the time attention helps predict the year, and hasn't much impact on predicting the day/month."
      ]
    },
    {
      "cell_type": "markdown",
      "metadata": {
        "id": "IXm536K7xr7o",
        "colab_type": "text"
      },
      "source": [
        "### Congratulations!\n",
        "\n",
        "\n",
        "You have come to the end of this assignment \n",
        "\n",
        "<font color='blue'> **Here's what you should remember from this notebook**:\n",
        "\n",
        "- Machine translation models can be used to map from one sequence to another. They are useful not just for translating human languages (like French->English) but also for tasks like date format translation. \n",
        "- An attention mechanism allows a network to focus on the most relevant parts of the input when producing a specific part of the output. \n",
        "- A network using an attention mechanism can translate from inputs of length $T_x$ to outputs of length $T_y$, where $T_x$ and $T_y$ can be different. \n",
        "- You can visualize attention weights $\\alpha^{\\langle t,t' \\rangle}$ to see what the network is paying attention to while generating each output."
      ]
    },
    {
      "cell_type": "markdown",
      "metadata": {
        "id": "jMERb8uOxr7p",
        "colab_type": "text"
      },
      "source": [
        "Congratulations on finishing this assignment! You are now able to implement an attention model and use it to learn complex mappings from one sequence to another. "
      ]
    },
    {
      "cell_type": "code",
      "metadata": {
        "id": "Y-CwiDx3xr7p",
        "colab_type": "code",
        "colab": {}
      },
      "source": [
        ""
      ],
      "execution_count": 0,
      "outputs": []
    }
  ]
}